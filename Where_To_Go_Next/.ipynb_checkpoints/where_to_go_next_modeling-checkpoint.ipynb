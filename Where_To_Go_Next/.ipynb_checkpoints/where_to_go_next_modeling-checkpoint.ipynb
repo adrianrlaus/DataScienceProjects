{
 "cells": [
  {
   "cell_type": "code",
   "execution_count": 4,
   "metadata": {
    "ExecuteTime": {
     "end_time": "2019-12-23T05:53:30.610844Z",
     "start_time": "2019-12-23T05:53:25.887661Z"
    }
   },
   "outputs": [],
   "source": [
    "# the essentials\n",
    "import pandas as pd\n",
    "import numpy as np\n",
    "import seaborn as sns\n",
    "from matplotlib import pyplot as plt\n",
    "from scipy import stats\n",
    "%matplotlib inline\n",
    "\n",
    "# sklearn\n",
    "from sklearn.feature_extraction.text import TfidfVectorizer,CountVectorizer\n",
    "from sklearn.preprocessing import StandardScaler\n",
    "from sklearn.decomposition import NMF, TruncatedSVD\n",
    "from sklearn.metrics import pairwise_distances\n",
    "\n",
    "# scipy\n",
    "from scipy.sparse import coo_matrix\n",
    "\n",
    "import re\n",
    "import pickle\n",
    "import random\n",
    "from tqdm.notebook import tqdm as tqdm  # progress bar for x in tqdm(range(100))"
   ]
  },
  {
   "cell_type": "markdown",
   "metadata": {},
   "source": [
    "# Collaborative Filtering"
   ]
  },
  {
   "cell_type": "code",
   "execution_count": 7,
   "metadata": {
    "ExecuteTime": {
     "end_time": "2019-12-23T05:54:17.218649Z",
     "start_time": "2019-12-23T05:54:17.093426Z"
    }
   },
   "outputs": [],
   "source": [
    "with open('city_info_final.pkl', 'rb') as picklfile:\n",
    "    df = pickle.load(picklfile)\n",
    "    \n",
    "# we dont need the wifi and link columns\n",
    "df.drop(columns=['wifi', 'link'], inplace=True)\n",
    "\n",
    "# remove manhattan because New york city is already a city we have in the data\n",
    "df = df[df.city != 'manhattan'].reset_index()"
   ]
  },
  {
   "cell_type": "code",
   "execution_count": 8,
   "metadata": {
    "ExecuteTime": {
     "end_time": "2019-12-23T05:54:17.749952Z",
     "start_time": "2019-12-23T05:54:17.742379Z"
    }
   },
   "outputs": [
    {
     "data": {
      "text/plain": [
       "(1010, 19)"
      ]
     },
     "execution_count": 8,
     "metadata": {},
     "output_type": "execute_result"
    }
   ],
   "source": [
    "df.shape"
   ]
  },
  {
   "cell_type": "code",
   "execution_count": 9,
   "metadata": {
    "ExecuteTime": {
     "end_time": "2019-12-23T05:54:18.157755Z",
     "start_time": "2019-12-23T05:54:18.101161Z"
    }
   },
   "outputs": [
    {
     "data": {
      "text/html": [
       "<div>\n",
       "<style scoped>\n",
       "    .dataframe tbody tr th:only-of-type {\n",
       "        vertical-align: middle;\n",
       "    }\n",
       "\n",
       "    .dataframe tbody tr th {\n",
       "        vertical-align: top;\n",
       "    }\n",
       "\n",
       "    .dataframe thead th {\n",
       "        text-align: right;\n",
       "    }\n",
       "</style>\n",
       "<table border=\"1\" class=\"dataframe\">\n",
       "  <thead>\n",
       "    <tr style=\"text-align: right;\">\n",
       "      <th></th>\n",
       "      <th>index</th>\n",
       "      <th>city</th>\n",
       "      <th>country</th>\n",
       "      <th>city_and_country</th>\n",
       "      <th>score</th>\n",
       "      <th>cost/month</th>\n",
       "      <th>fun</th>\n",
       "      <th>safety</th>\n",
       "      <th>quality_of_life</th>\n",
       "      <th>walkability</th>\n",
       "      <th>happiness</th>\n",
       "      <th>nightlife</th>\n",
       "      <th>friendly_to_foreigners</th>\n",
       "      <th>english</th>\n",
       "      <th>avg_trip_length_days</th>\n",
       "      <th>return_rate_percent</th>\n",
       "      <th>hotel_price_night</th>\n",
       "      <th>airbnb_price_night</th>\n",
       "      <th>visitors</th>\n",
       "    </tr>\n",
       "  </thead>\n",
       "  <tbody>\n",
       "    <tr>\n",
       "      <th>0</th>\n",
       "      <td>0</td>\n",
       "      <td>buenos-aires</td>\n",
       "      <td>Argentina</td>\n",
       "      <td>buenos aires argentina</td>\n",
       "      <td>4.88</td>\n",
       "      <td>1026.0</td>\n",
       "      <td>Good</td>\n",
       "      <td>Okay</td>\n",
       "      <td>Good</td>\n",
       "      <td>Great</td>\n",
       "      <td>Good</td>\n",
       "      <td>Great</td>\n",
       "      <td>Good</td>\n",
       "      <td>Okay</td>\n",
       "      <td>25.0</td>\n",
       "      <td>16.0</td>\n",
       "      <td>34.0</td>\n",
       "      <td>24.0</td>\n",
       "      <td>[/@krausefx, /@aczuleta, /@alexanderjoo, /@sil...</td>\n",
       "    </tr>\n",
       "    <tr>\n",
       "      <th>1</th>\n",
       "      <td>1</td>\n",
       "      <td>bangkok</td>\n",
       "      <td>Thailand</td>\n",
       "      <td>bangkok thailand</td>\n",
       "      <td>4.73</td>\n",
       "      <td>1522.0</td>\n",
       "      <td>Good</td>\n",
       "      <td>Good</td>\n",
       "      <td>Good</td>\n",
       "      <td>Great</td>\n",
       "      <td>Good</td>\n",
       "      <td>Great</td>\n",
       "      <td>Great</td>\n",
       "      <td>Okay</td>\n",
       "      <td>7.0</td>\n",
       "      <td>18.0</td>\n",
       "      <td>31.0</td>\n",
       "      <td>51.0</td>\n",
       "      <td>[/@remyp, /@manas, /@timrael, /@dimqen, /@dani...</td>\n",
       "    </tr>\n",
       "    <tr>\n",
       "      <th>2</th>\n",
       "      <td>2</td>\n",
       "      <td>mexico-city</td>\n",
       "      <td>Mexico</td>\n",
       "      <td>mexico city mexico</td>\n",
       "      <td>4.72</td>\n",
       "      <td>1493.0</td>\n",
       "      <td>Good</td>\n",
       "      <td>Okay</td>\n",
       "      <td>Good</td>\n",
       "      <td>Great</td>\n",
       "      <td>Good</td>\n",
       "      <td>Good</td>\n",
       "      <td>Good</td>\n",
       "      <td>Okay</td>\n",
       "      <td>14.0</td>\n",
       "      <td>14.0</td>\n",
       "      <td>30.0</td>\n",
       "      <td>31.0</td>\n",
       "      <td>[/@rohit, /@nadiaronquillo, /@evelienal, /@bri...</td>\n",
       "    </tr>\n",
       "    <tr>\n",
       "      <th>3</th>\n",
       "      <td>3</td>\n",
       "      <td>canggu</td>\n",
       "      <td>Indonesia</td>\n",
       "      <td>canggu indonesia</td>\n",
       "      <td>4.69</td>\n",
       "      <td>1389.0</td>\n",
       "      <td>Good</td>\n",
       "      <td>Great</td>\n",
       "      <td>Good</td>\n",
       "      <td>Okay</td>\n",
       "      <td>Okay</td>\n",
       "      <td>Good</td>\n",
       "      <td>Great</td>\n",
       "      <td>Good</td>\n",
       "      <td>28.0</td>\n",
       "      <td>17.0</td>\n",
       "      <td>21.0</td>\n",
       "      <td>58.0</td>\n",
       "      <td>[/@tris, /@joytravels, /@guar47, /@mariebriand...</td>\n",
       "    </tr>\n",
       "    <tr>\n",
       "      <th>4</th>\n",
       "      <td>4</td>\n",
       "      <td>chiang-mai</td>\n",
       "      <td>Thailand</td>\n",
       "      <td>chiang mai thailand</td>\n",
       "      <td>4.68</td>\n",
       "      <td>1126.0</td>\n",
       "      <td>Good</td>\n",
       "      <td>Great</td>\n",
       "      <td>Good</td>\n",
       "      <td>Great</td>\n",
       "      <td>Good</td>\n",
       "      <td>Okay</td>\n",
       "      <td>Good</td>\n",
       "      <td>Okay</td>\n",
       "      <td>28.0</td>\n",
       "      <td>15.0</td>\n",
       "      <td>25.0</td>\n",
       "      <td>41.0</td>\n",
       "      <td>[/@meedamian, /@zapperen, /@john, /@kymellis, ...</td>\n",
       "    </tr>\n",
       "  </tbody>\n",
       "</table>\n",
       "</div>"
      ],
      "text/plain": [
       "   index          city    country        city_and_country  score  cost/month  \\\n",
       "0      0  buenos-aires  Argentina  buenos aires argentina   4.88      1026.0   \n",
       "1      1       bangkok   Thailand        bangkok thailand   4.73      1522.0   \n",
       "2      2   mexico-city     Mexico      mexico city mexico   4.72      1493.0   \n",
       "3      3        canggu  Indonesia        canggu indonesia   4.69      1389.0   \n",
       "4      4    chiang-mai   Thailand     chiang mai thailand   4.68      1126.0   \n",
       "\n",
       "    fun safety quality_of_life walkability happiness nightlife  \\\n",
       "0  Good   Okay            Good       Great      Good     Great   \n",
       "1  Good   Good            Good       Great      Good     Great   \n",
       "2  Good   Okay            Good       Great      Good      Good   \n",
       "3  Good  Great            Good        Okay      Okay      Good   \n",
       "4  Good  Great            Good       Great      Good      Okay   \n",
       "\n",
       "  friendly_to_foreigners english  avg_trip_length_days  return_rate_percent  \\\n",
       "0                   Good    Okay                  25.0                 16.0   \n",
       "1                  Great    Okay                   7.0                 18.0   \n",
       "2                   Good    Okay                  14.0                 14.0   \n",
       "3                  Great    Good                  28.0                 17.0   \n",
       "4                   Good    Okay                  28.0                 15.0   \n",
       "\n",
       "   hotel_price_night  airbnb_price_night  \\\n",
       "0               34.0                24.0   \n",
       "1               31.0                51.0   \n",
       "2               30.0                31.0   \n",
       "3               21.0                58.0   \n",
       "4               25.0                41.0   \n",
       "\n",
       "                                            visitors  \n",
       "0  [/@krausefx, /@aczuleta, /@alexanderjoo, /@sil...  \n",
       "1  [/@remyp, /@manas, /@timrael, /@dimqen, /@dani...  \n",
       "2  [/@rohit, /@nadiaronquillo, /@evelienal, /@bri...  \n",
       "3  [/@tris, /@joytravels, /@guar47, /@mariebriand...  \n",
       "4  [/@meedamian, /@zapperen, /@john, /@kymellis, ...  "
      ]
     },
     "execution_count": 9,
     "metadata": {},
     "output_type": "execute_result"
    }
   ],
   "source": [
    "df.head()"
   ]
  },
  {
   "cell_type": "markdown",
   "metadata": {},
   "source": [
    "## References"
   ]
  },
  {
   "cell_type": "markdown",
   "metadata": {},
   "source": [
    "**This section is for dictionaries/lists that will be used as references to get:**  \n",
    "    - city names\n",
    "    - country names\n",
    "    - indexes\n",
    "   **To be used later**"
   ]
  },
  {
   "cell_type": "code",
   "execution_count": 10,
   "metadata": {
    "ExecuteTime": {
     "end_time": "2019-12-23T05:54:19.506839Z",
     "start_time": "2019-12-23T05:54:19.503346Z"
    }
   },
   "outputs": [],
   "source": [
    "# Total number of recommendations wanted\n",
    "total_num_recs = 21"
   ]
  },
  {
   "cell_type": "code",
   "execution_count": 11,
   "metadata": {
    "ExecuteTime": {
     "end_time": "2019-12-23T05:54:19.916330Z",
     "start_time": "2019-12-23T05:54:19.907016Z"
    }
   },
   "outputs": [
    {
     "data": {
      "text/plain": [
       "0    buenos aires argentina\n",
       "1          bangkok thailand\n",
       "2        mexico city mexico\n",
       "3          canggu indonesia\n",
       "4       chiang mai thailand\n",
       "Name: city_and_country, dtype: object"
      ]
     },
     "execution_count": 11,
     "metadata": {},
     "output_type": "execute_result"
    }
   ],
   "source": [
    "# city and country to be used in the recommendation function\n",
    "city_and_country = df['city_and_country']\n",
    "city_and_country.head()"
   ]
  },
  {
   "cell_type": "code",
   "execution_count": 12,
   "metadata": {
    "ExecuteTime": {
     "end_time": "2019-12-23T05:54:20.414826Z",
     "start_time": "2019-12-23T05:54:20.408036Z"
    },
    "scrolled": true
   },
   "outputs": [
    {
     "data": {
      "text/plain": [
       "0    buenos-aires\n",
       "1         bangkok\n",
       "2     mexico-city\n",
       "3          canggu\n",
       "4      chiang-mai\n",
       "Name: city, dtype: object"
      ]
     },
     "execution_count": 12,
     "metadata": {},
     "output_type": "execute_result"
    }
   ],
   "source": [
    "# to add cities to the df later\n",
    "cities = df['city']\n",
    "cities.head()"
   ]
  },
  {
   "cell_type": "code",
   "execution_count": 13,
   "metadata": {
    "ExecuteTime": {
     "end_time": "2019-12-23T05:54:21.163507Z",
     "start_time": "2019-12-23T05:54:21.148498Z"
    }
   },
   "outputs": [],
   "source": [
    "# cities in a dict to be referenced by the pair-wise distances\n",
    "city_country_dict = dict(df['city_and_country'])"
   ]
  },
  {
   "cell_type": "code",
   "execution_count": 14,
   "metadata": {
    "ExecuteTime": {
     "end_time": "2019-12-23T05:54:21.678762Z",
     "start_time": "2019-12-23T05:54:21.661804Z"
    }
   },
   "outputs": [
    {
     "data": {
      "text/html": [
       "<div>\n",
       "<style scoped>\n",
       "    .dataframe tbody tr th:only-of-type {\n",
       "        vertical-align: middle;\n",
       "    }\n",
       "\n",
       "    .dataframe tbody tr th {\n",
       "        vertical-align: top;\n",
       "    }\n",
       "\n",
       "    .dataframe thead th {\n",
       "        text-align: right;\n",
       "    }\n",
       "</style>\n",
       "<table border=\"1\" class=\"dataframe\">\n",
       "  <thead>\n",
       "    <tr style=\"text-align: right;\">\n",
       "      <th></th>\n",
       "      <th>city</th>\n",
       "      <th>visitors</th>\n",
       "    </tr>\n",
       "  </thead>\n",
       "  <tbody>\n",
       "    <tr>\n",
       "      <th>0</th>\n",
       "      <td>buenos-aires</td>\n",
       "      <td>[/@krausefx, /@aczuleta, /@alexanderjoo, /@sil...</td>\n",
       "    </tr>\n",
       "    <tr>\n",
       "      <th>1</th>\n",
       "      <td>bangkok</td>\n",
       "      <td>[/@remyp, /@manas, /@timrael, /@dimqen, /@dani...</td>\n",
       "    </tr>\n",
       "    <tr>\n",
       "      <th>2</th>\n",
       "      <td>mexico-city</td>\n",
       "      <td>[/@rohit, /@nadiaronquillo, /@evelienal, /@bri...</td>\n",
       "    </tr>\n",
       "    <tr>\n",
       "      <th>3</th>\n",
       "      <td>canggu</td>\n",
       "      <td>[/@tris, /@joytravels, /@guar47, /@mariebriand...</td>\n",
       "    </tr>\n",
       "    <tr>\n",
       "      <th>4</th>\n",
       "      <td>chiang-mai</td>\n",
       "      <td>[/@meedamian, /@zapperen, /@john, /@kymellis, ...</td>\n",
       "    </tr>\n",
       "  </tbody>\n",
       "</table>\n",
       "</div>"
      ],
      "text/plain": [
       "           city                                           visitors\n",
       "0  buenos-aires  [/@krausefx, /@aczuleta, /@alexanderjoo, /@sil...\n",
       "1       bangkok  [/@remyp, /@manas, /@timrael, /@dimqen, /@dani...\n",
       "2   mexico-city  [/@rohit, /@nadiaronquillo, /@evelienal, /@bri...\n",
       "3        canggu  [/@tris, /@joytravels, /@guar47, /@mariebriand...\n",
       "4    chiang-mai  [/@meedamian, /@zapperen, /@john, /@kymellis, ..."
      ]
     },
     "execution_count": 14,
     "metadata": {},
     "output_type": "execute_result"
    }
   ],
   "source": [
    "# city/visitor information\n",
    "collab_df = df[['city', 'visitors']]\n",
    "collab_df.head()"
   ]
  },
  {
   "cell_type": "code",
   "execution_count": 15,
   "metadata": {
    "ExecuteTime": {
     "end_time": "2019-12-23T05:54:31.032879Z",
     "start_time": "2019-12-23T05:54:30.953972Z"
    }
   },
   "outputs": [
    {
     "data": {
      "text/html": [
       "<div>\n",
       "<style scoped>\n",
       "    .dataframe tbody tr th:only-of-type {\n",
       "        vertical-align: middle;\n",
       "    }\n",
       "\n",
       "    .dataframe tbody tr th {\n",
       "        vertical-align: top;\n",
       "    }\n",
       "\n",
       "    .dataframe thead th {\n",
       "        text-align: right;\n",
       "    }\n",
       "</style>\n",
       "<table border=\"1\" class=\"dataframe\">\n",
       "  <thead>\n",
       "    <tr style=\"text-align: right;\">\n",
       "      <th></th>\n",
       "      <th>/@0x72</th>\n",
       "      <th>/@10kjuan</th>\n",
       "      <th>/@30andawakeup</th>\n",
       "      <th>/@9102180</th>\n",
       "      <th>/@_kp_</th>\n",
       "      <th>/@a7dc</th>\n",
       "      <th>/@a_malchenko</th>\n",
       "      <th>/@aaatelier_ejay</th>\n",
       "      <th>/@aabergkvist</th>\n",
       "      <th>/@aakashdhuna</th>\n",
       "      <th>...</th>\n",
       "      <th>/@zmontagu</th>\n",
       "      <th>/@zonorm</th>\n",
       "      <th>/@zot24</th>\n",
       "      <th>/@zoxel</th>\n",
       "      <th>/@zpeirce</th>\n",
       "      <th>/@zrueda</th>\n",
       "      <th>/@zsolt</th>\n",
       "      <th>/@zsoltee</th>\n",
       "      <th>/@ztargos</th>\n",
       "      <th>/@zwasham</th>\n",
       "    </tr>\n",
       "  </thead>\n",
       "  <tbody>\n",
       "    <tr>\n",
       "      <th>0</th>\n",
       "      <td>0</td>\n",
       "      <td>0</td>\n",
       "      <td>0</td>\n",
       "      <td>0</td>\n",
       "      <td>0</td>\n",
       "      <td>0</td>\n",
       "      <td>0</td>\n",
       "      <td>0</td>\n",
       "      <td>0</td>\n",
       "      <td>0</td>\n",
       "      <td>...</td>\n",
       "      <td>0</td>\n",
       "      <td>0</td>\n",
       "      <td>0</td>\n",
       "      <td>0</td>\n",
       "      <td>0</td>\n",
       "      <td>0</td>\n",
       "      <td>0</td>\n",
       "      <td>0</td>\n",
       "      <td>0</td>\n",
       "      <td>1</td>\n",
       "    </tr>\n",
       "    <tr>\n",
       "      <th>1</th>\n",
       "      <td>0</td>\n",
       "      <td>0</td>\n",
       "      <td>1</td>\n",
       "      <td>1</td>\n",
       "      <td>0</td>\n",
       "      <td>0</td>\n",
       "      <td>0</td>\n",
       "      <td>1</td>\n",
       "      <td>0</td>\n",
       "      <td>0</td>\n",
       "      <td>...</td>\n",
       "      <td>0</td>\n",
       "      <td>0</td>\n",
       "      <td>0</td>\n",
       "      <td>0</td>\n",
       "      <td>1</td>\n",
       "      <td>0</td>\n",
       "      <td>0</td>\n",
       "      <td>1</td>\n",
       "      <td>0</td>\n",
       "      <td>0</td>\n",
       "    </tr>\n",
       "    <tr>\n",
       "      <th>2</th>\n",
       "      <td>0</td>\n",
       "      <td>0</td>\n",
       "      <td>1</td>\n",
       "      <td>0</td>\n",
       "      <td>0</td>\n",
       "      <td>0</td>\n",
       "      <td>0</td>\n",
       "      <td>0</td>\n",
       "      <td>0</td>\n",
       "      <td>0</td>\n",
       "      <td>...</td>\n",
       "      <td>0</td>\n",
       "      <td>0</td>\n",
       "      <td>0</td>\n",
       "      <td>0</td>\n",
       "      <td>0</td>\n",
       "      <td>0</td>\n",
       "      <td>0</td>\n",
       "      <td>0</td>\n",
       "      <td>0</td>\n",
       "      <td>0</td>\n",
       "    </tr>\n",
       "    <tr>\n",
       "      <th>3</th>\n",
       "      <td>0</td>\n",
       "      <td>0</td>\n",
       "      <td>1</td>\n",
       "      <td>1</td>\n",
       "      <td>0</td>\n",
       "      <td>0</td>\n",
       "      <td>0</td>\n",
       "      <td>1</td>\n",
       "      <td>0</td>\n",
       "      <td>1</td>\n",
       "      <td>...</td>\n",
       "      <td>0</td>\n",
       "      <td>0</td>\n",
       "      <td>0</td>\n",
       "      <td>0</td>\n",
       "      <td>0</td>\n",
       "      <td>0</td>\n",
       "      <td>0</td>\n",
       "      <td>0</td>\n",
       "      <td>0</td>\n",
       "      <td>0</td>\n",
       "    </tr>\n",
       "    <tr>\n",
       "      <th>4</th>\n",
       "      <td>0</td>\n",
       "      <td>0</td>\n",
       "      <td>1</td>\n",
       "      <td>1</td>\n",
       "      <td>0</td>\n",
       "      <td>0</td>\n",
       "      <td>0</td>\n",
       "      <td>1</td>\n",
       "      <td>0</td>\n",
       "      <td>0</td>\n",
       "      <td>...</td>\n",
       "      <td>0</td>\n",
       "      <td>0</td>\n",
       "      <td>0</td>\n",
       "      <td>0</td>\n",
       "      <td>1</td>\n",
       "      <td>0</td>\n",
       "      <td>0</td>\n",
       "      <td>1</td>\n",
       "      <td>0</td>\n",
       "      <td>0</td>\n",
       "    </tr>\n",
       "  </tbody>\n",
       "</table>\n",
       "<p>5 rows × 3296 columns</p>\n",
       "</div>"
      ],
      "text/plain": [
       "   /@0x72  /@10kjuan  /@30andawakeup  /@9102180  /@_kp_  /@a7dc  \\\n",
       "0       0          0               0          0       0       0   \n",
       "1       0          0               1          1       0       0   \n",
       "2       0          0               1          0       0       0   \n",
       "3       0          0               1          1       0       0   \n",
       "4       0          0               1          1       0       0   \n",
       "\n",
       "   /@a_malchenko  /@aaatelier_ejay  /@aabergkvist  /@aakashdhuna  ...  \\\n",
       "0              0                 0              0              0  ...   \n",
       "1              0                 1              0              0  ...   \n",
       "2              0                 0              0              0  ...   \n",
       "3              0                 1              0              1  ...   \n",
       "4              0                 1              0              0  ...   \n",
       "\n",
       "   /@zmontagu  /@zonorm  /@zot24  /@zoxel  /@zpeirce  /@zrueda  /@zsolt  \\\n",
       "0           0         0        0        0          0         0        0   \n",
       "1           0         0        0        0          1         0        0   \n",
       "2           0         0        0        0          0         0        0   \n",
       "3           0         0        0        0          0         0        0   \n",
       "4           0         0        0        0          1         0        0   \n",
       "\n",
       "   /@zsoltee  /@ztargos  /@zwasham  \n",
       "0          0          0          1  \n",
       "1          1          0          0  \n",
       "2          0          0          0  \n",
       "3          0          0          0  \n",
       "4          1          0          0  \n",
       "\n",
       "[5 rows x 3296 columns]"
      ]
     },
     "execution_count": 15,
     "metadata": {},
     "output_type": "execute_result"
    }
   ],
   "source": [
    "# this separates the list of vistors in each row into dummies\n",
    "# this also removed the duplicates\n",
    "from sklearn.preprocessing import MultiLabelBinarizer\n",
    "\n",
    "split = collab_df['visitors']\n",
    "mlb = MultiLabelBinarizer()\n",
    "collab_df = pd.DataFrame(mlb.fit_transform(split),columns=mlb.classes_)\n",
    "\n",
    "collab_df.head()"
   ]
  },
  {
   "cell_type": "code",
   "execution_count": 16,
   "metadata": {
    "ExecuteTime": {
     "end_time": "2019-12-23T05:54:35.429825Z",
     "start_time": "2019-12-23T05:54:35.412555Z"
    }
   },
   "outputs": [
    {
     "data": {
      "text/html": [
       "<div>\n",
       "<style scoped>\n",
       "    .dataframe tbody tr th:only-of-type {\n",
       "        vertical-align: middle;\n",
       "    }\n",
       "\n",
       "    .dataframe tbody tr th {\n",
       "        vertical-align: top;\n",
       "    }\n",
       "\n",
       "    .dataframe thead th {\n",
       "        text-align: right;\n",
       "    }\n",
       "</style>\n",
       "<table border=\"1\" class=\"dataframe\">\n",
       "  <thead>\n",
       "    <tr style=\"text-align: right;\">\n",
       "      <th>city</th>\n",
       "      <th>buenos-aires</th>\n",
       "      <th>bangkok</th>\n",
       "      <th>mexico-city</th>\n",
       "      <th>canggu</th>\n",
       "      <th>chiang-mai</th>\n",
       "      <th>budapest</th>\n",
       "      <th>taipei</th>\n",
       "      <th>prague</th>\n",
       "      <th>medellin</th>\n",
       "      <th>sofia</th>\n",
       "      <th>...</th>\n",
       "      <th>amundsen-scott</th>\n",
       "      <th>saint-helier</th>\n",
       "      <th>shrewsbury</th>\n",
       "      <th>charlotte-amalie</th>\n",
       "      <th>napa</th>\n",
       "      <th>northampton</th>\n",
       "      <th>lincoln</th>\n",
       "      <th>noumea</th>\n",
       "      <th>ashland</th>\n",
       "      <th>monrovia</th>\n",
       "    </tr>\n",
       "  </thead>\n",
       "  <tbody>\n",
       "    <tr>\n",
       "      <th>/@0x72</th>\n",
       "      <td>0</td>\n",
       "      <td>0</td>\n",
       "      <td>0</td>\n",
       "      <td>0</td>\n",
       "      <td>0</td>\n",
       "      <td>0</td>\n",
       "      <td>0</td>\n",
       "      <td>0</td>\n",
       "      <td>0</td>\n",
       "      <td>0</td>\n",
       "      <td>...</td>\n",
       "      <td>0</td>\n",
       "      <td>0</td>\n",
       "      <td>0</td>\n",
       "      <td>0</td>\n",
       "      <td>0</td>\n",
       "      <td>0</td>\n",
       "      <td>0</td>\n",
       "      <td>0</td>\n",
       "      <td>0</td>\n",
       "      <td>0</td>\n",
       "    </tr>\n",
       "    <tr>\n",
       "      <th>/@10kjuan</th>\n",
       "      <td>0</td>\n",
       "      <td>0</td>\n",
       "      <td>0</td>\n",
       "      <td>0</td>\n",
       "      <td>0</td>\n",
       "      <td>1</td>\n",
       "      <td>0</td>\n",
       "      <td>0</td>\n",
       "      <td>1</td>\n",
       "      <td>0</td>\n",
       "      <td>...</td>\n",
       "      <td>0</td>\n",
       "      <td>0</td>\n",
       "      <td>0</td>\n",
       "      <td>0</td>\n",
       "      <td>0</td>\n",
       "      <td>0</td>\n",
       "      <td>0</td>\n",
       "      <td>0</td>\n",
       "      <td>0</td>\n",
       "      <td>0</td>\n",
       "    </tr>\n",
       "    <tr>\n",
       "      <th>/@30andawakeup</th>\n",
       "      <td>0</td>\n",
       "      <td>1</td>\n",
       "      <td>1</td>\n",
       "      <td>1</td>\n",
       "      <td>1</td>\n",
       "      <td>1</td>\n",
       "      <td>1</td>\n",
       "      <td>0</td>\n",
       "      <td>1</td>\n",
       "      <td>0</td>\n",
       "      <td>...</td>\n",
       "      <td>0</td>\n",
       "      <td>0</td>\n",
       "      <td>0</td>\n",
       "      <td>0</td>\n",
       "      <td>0</td>\n",
       "      <td>0</td>\n",
       "      <td>0</td>\n",
       "      <td>0</td>\n",
       "      <td>0</td>\n",
       "      <td>0</td>\n",
       "    </tr>\n",
       "    <tr>\n",
       "      <th>/@9102180</th>\n",
       "      <td>0</td>\n",
       "      <td>1</td>\n",
       "      <td>0</td>\n",
       "      <td>1</td>\n",
       "      <td>1</td>\n",
       "      <td>0</td>\n",
       "      <td>0</td>\n",
       "      <td>0</td>\n",
       "      <td>0</td>\n",
       "      <td>0</td>\n",
       "      <td>...</td>\n",
       "      <td>0</td>\n",
       "      <td>0</td>\n",
       "      <td>0</td>\n",
       "      <td>0</td>\n",
       "      <td>0</td>\n",
       "      <td>0</td>\n",
       "      <td>0</td>\n",
       "      <td>0</td>\n",
       "      <td>0</td>\n",
       "      <td>0</td>\n",
       "    </tr>\n",
       "    <tr>\n",
       "      <th>/@_kp_</th>\n",
       "      <td>0</td>\n",
       "      <td>0</td>\n",
       "      <td>0</td>\n",
       "      <td>0</td>\n",
       "      <td>0</td>\n",
       "      <td>0</td>\n",
       "      <td>0</td>\n",
       "      <td>0</td>\n",
       "      <td>0</td>\n",
       "      <td>0</td>\n",
       "      <td>...</td>\n",
       "      <td>0</td>\n",
       "      <td>0</td>\n",
       "      <td>0</td>\n",
       "      <td>0</td>\n",
       "      <td>0</td>\n",
       "      <td>0</td>\n",
       "      <td>0</td>\n",
       "      <td>0</td>\n",
       "      <td>0</td>\n",
       "      <td>0</td>\n",
       "    </tr>\n",
       "  </tbody>\n",
       "</table>\n",
       "<p>5 rows × 1010 columns</p>\n",
       "</div>"
      ],
      "text/plain": [
       "city            buenos-aires  bangkok  mexico-city  canggu  chiang-mai  \\\n",
       "/@0x72                     0        0            0       0           0   \n",
       "/@10kjuan                  0        0            0       0           0   \n",
       "/@30andawakeup             0        1            1       1           1   \n",
       "/@9102180                  0        1            0       1           1   \n",
       "/@_kp_                     0        0            0       0           0   \n",
       "\n",
       "city            budapest  taipei  prague  medellin  sofia  ...  \\\n",
       "/@0x72                 0       0       0         0      0  ...   \n",
       "/@10kjuan              1       0       0         1      0  ...   \n",
       "/@30andawakeup         1       1       0         1      0  ...   \n",
       "/@9102180              0       0       0         0      0  ...   \n",
       "/@_kp_                 0       0       0         0      0  ...   \n",
       "\n",
       "city            amundsen-scott  saint-helier  shrewsbury  charlotte-amalie  \\\n",
       "/@0x72                       0             0           0                 0   \n",
       "/@10kjuan                    0             0           0                 0   \n",
       "/@30andawakeup               0             0           0                 0   \n",
       "/@9102180                    0             0           0                 0   \n",
       "/@_kp_                       0             0           0                 0   \n",
       "\n",
       "city            napa  northampton  lincoln  noumea  ashland  monrovia  \n",
       "/@0x72             0            0        0       0        0         0  \n",
       "/@10kjuan          0            0        0       0        0         0  \n",
       "/@30andawakeup     0            0        0       0        0         0  \n",
       "/@9102180          0            0        0       0        0         0  \n",
       "/@_kp_             0            0        0       0        0         0  \n",
       "\n",
       "[5 rows x 1010 columns]"
      ]
     },
     "execution_count": 16,
     "metadata": {},
     "output_type": "execute_result"
    }
   ],
   "source": [
    "# swap rows and columns\n",
    "# user by city\n",
    "collab_df = collab_df.transpose()\n",
    "\n",
    "# add back city names to the column names\n",
    "collab_df.columns = cities\n",
    "\n",
    "collab_df.head()"
   ]
  },
  {
   "cell_type": "code",
   "execution_count": 17,
   "metadata": {
    "ExecuteTime": {
     "end_time": "2019-12-23T05:55:43.448498Z",
     "start_time": "2019-12-23T05:55:43.392972Z"
    }
   },
   "outputs": [],
   "source": [
    "# convert our sparse matrix (collab_df) to a coordinate matrix\n",
    "coo = coo_matrix(collab_df)"
   ]
  },
  {
   "cell_type": "code",
   "execution_count": 18,
   "metadata": {
    "ExecuteTime": {
     "end_time": "2019-12-23T05:55:46.640513Z",
     "start_time": "2019-12-23T05:55:46.430757Z"
    }
   },
   "outputs": [],
   "source": [
    "# Dimensionality Reductions\n",
    "# optimal n_components determined by looking at recommendations manually\n",
    "collab_svd_model = TruncatedSVD(n_components=100, random_state=42)\n",
    "\n",
    "collab_user_vec = collab_svd_model.fit_transform(coo)"
   ]
  },
  {
   "cell_type": "code",
   "execution_count": 19,
   "metadata": {
    "ExecuteTime": {
     "end_time": "2019-12-23T05:55:46.827068Z",
     "start_time": "2019-12-23T05:55:46.820445Z"
    },
    "cell_style": "center"
   },
   "outputs": [
    {
     "data": {
      "text/plain": [
       "(3296, 100)"
      ]
     },
     "execution_count": 19,
     "metadata": {},
     "output_type": "execute_result"
    }
   ],
   "source": [
    "# how each user fits into n_components\n",
    "collab_user_vec.shape"
   ]
  },
  {
   "cell_type": "code",
   "execution_count": 20,
   "metadata": {
    "ExecuteTime": {
     "end_time": "2019-12-23T05:55:53.511828Z",
     "start_time": "2019-12-23T05:55:51.746809Z"
    }
   },
   "outputs": [],
   "source": [
    "# uses the sparse matric of collab_df to make a user:places visited dictionary\n",
    "user_visited_dict = {}\n",
    "\n",
    "for user in collab_df.index:\n",
    "    user_visited_dict[user] = [a*b for a,b in zip(collab_df.loc[user].values,city_and_country) if a*b !='']"
   ]
  },
  {
   "cell_type": "code",
   "execution_count": 21,
   "metadata": {
    "ExecuteTime": {
     "end_time": "2019-12-23T05:55:54.930018Z",
     "start_time": "2019-12-23T05:55:54.852129Z"
    }
   },
   "outputs": [],
   "source": [
    "# dictionary of index to user\n",
    "user_dict = dict(collab_df.reset_index()['index'])"
   ]
  },
  {
   "cell_type": "markdown",
   "metadata": {},
   "source": [
    "## Model"
   ]
  },
  {
   "cell_type": "code",
   "execution_count": 22,
   "metadata": {
    "ExecuteTime": {
     "end_time": "2019-12-23T05:55:56.829834Z",
     "start_time": "2019-12-23T05:55:56.812707Z"
    }
   },
   "outputs": [],
   "source": [
    "from fuzzywuzzy import fuzz \n",
    "from fuzzywuzzy import process \n",
    "\n",
    "# match input string to the cloesest city_and_country avaialable\n",
    "def match_words(input_word):\n",
    "    closest_word = []\n",
    "\n",
    "    for index in range(0,len(city_country_dict)):\n",
    "        # quantitative value of how close the words are to each other\n",
    "        # higher the better\n",
    "        sort_ratio = fuzz.token_sort_ratio(input_word, city_country_dict[index]) \n",
    "        closest_word.append((sort_ratio, index))\n",
    "    \n",
    "    # return the index location of the city that is closest\n",
    "    return max(closest_word)[1]"
   ]
  },
  {
   "cell_type": "code",
   "execution_count": 23,
   "metadata": {
    "ExecuteTime": {
     "end_time": "2019-12-23T05:55:57.166810Z",
     "start_time": "2019-12-23T05:55:57.151121Z"
    }
   },
   "outputs": [],
   "source": [
    "# This function creates TFIDF vectors for documents that have already been tokenized\n",
    "# normally a document has to be a single string of words, not a list\n",
    "def tfidf_for_tokens(tokenized_corpus):\n",
    "\n",
    "    def identity_tokenizer(text):\n",
    "        return text\n",
    "    \n",
    "    tfidf = TfidfVectorizer(tokenizer=identity_tokenizer, stop_words=None, lowercase=False)    \n",
    "    rec_matrix = tfidf.fit_transform(tokenized_corpus)\n",
    "    \n",
    "    return rec_matrix.todense(), tfidf.get_feature_names()"
   ]
  },
  {
   "cell_type": "code",
   "execution_count": 24,
   "metadata": {
    "ExecuteTime": {
     "end_time": "2019-12-23T05:55:57.685184Z",
     "start_time": "2019-12-23T05:55:57.673128Z"
    }
   },
   "outputs": [],
   "source": [
    "# places is the places the user has gone to \n",
    "# should be a list of city AND country to be more specific(some countries have cities with the same name)\n",
    "def collab_user_user_recommender_tfidf(user_input):\n",
    "    \n",
    "    # placeholder. new user hasnt visited any places yet\n",
    "    new_user_input = np.zeros(len(city_country_dict))\n",
    "    \n",
    "    # fix the incorrect spelling here\n",
    "    places = []\n",
    "    for city in user_input:\n",
    "        city_index = match_words(city)\n",
    "        places.append(city_country_dict[city_index])\n",
    "        print('You entered: ', city_country_dict[city_index])\n",
    "        \n",
    "    places_index = []\n",
    "    for city in places:\n",
    "        city_index = match_words(city) # index of the place the've been to\n",
    "        new_user_input[city_index] = 1 # change the array of zeros to 1 where the user has been\n",
    "        places_index.append(city_index)\n",
    "        \n",
    "    # calculate new coo matrix\n",
    "    new_coo = coo_matrix(new_user_input) \n",
    "    \n",
    "    # transform coo only since we have the model already fitted\n",
    "    new_user_vec = collab_svd_model.transform(new_coo) \n",
    "    new_user_dist = pairwise_distances(new_user_vec, collab_user_vec,metric='cosine')\n",
    "    \n",
    "    \n",
    "    most_similar_users= [user_dict[index] for index in new_user_dist[0].argsort()]\n",
    "    #top_1percent_closest_users = most_similar_users[:int(len(most_similar_users)*0.01)]\n",
    "    \n",
    "    possible_recs = []\n",
    "    i = 0\n",
    "    for user in most_similar_users:\n",
    "        if len(possible_recs) < int(len(most_similar_users)*0.01): # top 1% closest to you, skipping users that \n",
    "                                                            # add empty strings bc they only went to 1 or 2 places\n",
    "            rec = []\n",
    "            rec = [place for place in user_visited_dict[user] \n",
    "                   if place not in places]\n",
    "\n",
    "            if ' '.join(rec) != '':\n",
    "                possible_recs.append(rec)\n",
    "            i+=1\n",
    "        #print(dict(sorted(possible_recs.items(), key = itemgetter(1), reverse = True)[:5]))\n",
    "    \n",
    "    # convert top 1% closest users to TFIDF values and return high sum over the users\n",
    "    tfidf_dense_matrix, column_names = tfidf_for_tokens(possible_recs)\n",
    "    \n",
    "    tfidf_df = pd.DataFrame(tfidf_dense_matrix)\n",
    "    tfidf_df.columns = column_names\n",
    "    recommendations = pd.DataFrame(tfidf_df.sum().sort_values(ascending=False)).reset_index() \n",
    "    \n",
    "    recommendations.columns = ['city_recommendation', 'score']\n",
    "    \n",
    "    return recommendations.iloc[:10]"
   ]
  },
  {
   "cell_type": "code",
   "execution_count": 25,
   "metadata": {
    "ExecuteTime": {
     "end_time": "2019-12-23T05:55:59.773533Z",
     "start_time": "2019-12-23T05:55:59.660451Z"
    }
   },
   "outputs": [
    {
     "name": "stdout",
     "output_type": "stream",
     "text": [
      "You entered:  tokyo japan\n",
      "You entered:  miami united states\n"
     ]
    },
    {
     "data": {
      "text/html": [
       "<div>\n",
       "<style scoped>\n",
       "    .dataframe tbody tr th:only-of-type {\n",
       "        vertical-align: middle;\n",
       "    }\n",
       "\n",
       "    .dataframe tbody tr th {\n",
       "        vertical-align: top;\n",
       "    }\n",
       "\n",
       "    .dataframe thead th {\n",
       "        text-align: right;\n",
       "    }\n",
       "</style>\n",
       "<table border=\"1\" class=\"dataframe\">\n",
       "  <thead>\n",
       "    <tr style=\"text-align: right;\">\n",
       "      <th></th>\n",
       "      <th>city_recommendation</th>\n",
       "      <th>score</th>\n",
       "    </tr>\n",
       "  </thead>\n",
       "  <tbody>\n",
       "    <tr>\n",
       "      <th>0</th>\n",
       "      <td>bangkok thailand</td>\n",
       "      <td>2.571770</td>\n",
       "    </tr>\n",
       "    <tr>\n",
       "      <th>1</th>\n",
       "      <td>medellin colombia</td>\n",
       "      <td>2.500577</td>\n",
       "    </tr>\n",
       "    <tr>\n",
       "      <th>2</th>\n",
       "      <td>los angeles united states</td>\n",
       "      <td>2.233932</td>\n",
       "    </tr>\n",
       "    <tr>\n",
       "      <th>3</th>\n",
       "      <td>ottawa canada</td>\n",
       "      <td>1.866526</td>\n",
       "    </tr>\n",
       "    <tr>\n",
       "      <th>4</th>\n",
       "      <td>kyoto japan</td>\n",
       "      <td>1.652586</td>\n",
       "    </tr>\n",
       "    <tr>\n",
       "      <th>5</th>\n",
       "      <td>helsinki finland</td>\n",
       "      <td>1.499709</td>\n",
       "    </tr>\n",
       "    <tr>\n",
       "      <th>6</th>\n",
       "      <td>boston united states</td>\n",
       "      <td>1.332476</td>\n",
       "    </tr>\n",
       "    <tr>\n",
       "      <th>7</th>\n",
       "      <td>mexico city mexico</td>\n",
       "      <td>1.042445</td>\n",
       "    </tr>\n",
       "    <tr>\n",
       "      <th>8</th>\n",
       "      <td>amsterdam netherlands</td>\n",
       "      <td>1.000000</td>\n",
       "    </tr>\n",
       "    <tr>\n",
       "      <th>9</th>\n",
       "      <td>philadelphia united states</td>\n",
       "      <td>1.000000</td>\n",
       "    </tr>\n",
       "  </tbody>\n",
       "</table>\n",
       "</div>"
      ],
      "text/plain": [
       "          city_recommendation     score\n",
       "0            bangkok thailand  2.571770\n",
       "1           medellin colombia  2.500577\n",
       "2   los angeles united states  2.233932\n",
       "3               ottawa canada  1.866526\n",
       "4                 kyoto japan  1.652586\n",
       "5            helsinki finland  1.499709\n",
       "6        boston united states  1.332476\n",
       "7          mexico city mexico  1.042445\n",
       "8       amsterdam netherlands  1.000000\n",
       "9  philadelphia united states  1.000000"
      ]
     },
     "execution_count": 25,
     "metadata": {},
     "output_type": "execute_result"
    }
   ],
   "source": [
    "# The user can input their own \"Travel History\"\n",
    "# i.e as many cities as they want \n",
    "collab_user_user_recommender_tfidf(['Tokyo Japan', 'miami united states'])"
   ]
  },
  {
   "cell_type": "markdown",
   "metadata": {},
   "source": [
    "# Content Based Filtering"
   ]
  },
  {
   "cell_type": "code",
   "execution_count": 26,
   "metadata": {
    "ExecuteTime": {
     "end_time": "2019-12-23T05:56:03.349963Z",
     "start_time": "2019-12-23T05:56:03.201802Z"
    }
   },
   "outputs": [],
   "source": [
    "# Load cleaned wikivoyage descriptions of each city\n",
    "with open('tokenized_corpus_final2.pkl', 'rb') as picklfile:\n",
    "    tokenized_corpus_final = pickle.load(picklfile)"
   ]
  },
  {
   "cell_type": "code",
   "execution_count": 27,
   "metadata": {
    "ExecuteTime": {
     "end_time": "2019-12-23T05:56:05.671962Z",
     "start_time": "2019-12-23T05:56:05.648091Z"
    }
   },
   "outputs": [],
   "source": [
    "# join tokenized corpus to make a block of text for each city\n",
    "corpus = [' '.join(doc) for doc in tokenized_corpus_final]"
   ]
  },
  {
   "cell_type": "code",
   "execution_count": 28,
   "metadata": {
    "ExecuteTime": {
     "end_time": "2019-12-23T05:56:07.021217Z",
     "start_time": "2019-12-23T05:56:06.298578Z"
    }
   },
   "outputs": [],
   "source": [
    "# TF-IDF Vectorizer\n",
    "tfidf = TfidfVectorizer(max_df=0.5, min_df=0.03)\n",
    "tfidf_matrix = tfidf.fit_transform(corpus)"
   ]
  },
  {
   "cell_type": "code",
   "execution_count": 29,
   "metadata": {
    "ExecuteTime": {
     "end_time": "2019-12-23T05:56:07.413877Z",
     "start_time": "2019-12-23T05:56:07.406467Z"
    }
   },
   "outputs": [
    {
     "data": {
      "text/plain": [
       "(1011, 2505)"
      ]
     },
     "execution_count": 29,
     "metadata": {},
     "output_type": "execute_result"
    }
   ],
   "source": [
    "tfidf_matrix.shape"
   ]
  },
  {
   "cell_type": "code",
   "execution_count": 30,
   "metadata": {
    "ExecuteTime": {
     "end_time": "2019-12-23T05:56:08.072892Z",
     "start_time": "2019-12-23T05:56:07.882812Z"
    }
   },
   "outputs": [
    {
     "data": {
      "text/plain": [
       "(1011, 75)"
      ]
     },
     "execution_count": 30,
     "metadata": {},
     "output_type": "execute_result"
    }
   ],
   "source": [
    "# Dimensionality Reduction\n",
    "wiki_svd_model = TruncatedSVD(n_components=75, random_state=42)\n",
    "\n",
    "wiki_svd_city_vec = wiki_svd_model.fit_transform(tfidf_matrix)\n",
    "wiki_svd_city_vec.shape"
   ]
  },
  {
   "cell_type": "code",
   "execution_count": 31,
   "metadata": {
    "ExecuteTime": {
     "end_time": "2019-12-23T05:56:08.260066Z",
     "start_time": "2019-12-23T05:56:08.231390Z"
    }
   },
   "outputs": [
    {
     "data": {
      "text/plain": [
       "(1011, 1011)"
      ]
     },
     "execution_count": 31,
     "metadata": {},
     "output_type": "execute_result"
    }
   ],
   "source": [
    "# pairwise distances\n",
    "wiki_svd_city_dist = pairwise_distances(wiki_svd_city_vec, metric='cosine')\n",
    "wiki_svd_city_dist.shape"
   ]
  },
  {
   "cell_type": "markdown",
   "metadata": {},
   "source": [
    "## Model"
   ]
  },
  {
   "cell_type": "code",
   "execution_count": 32,
   "metadata": {
    "ExecuteTime": {
     "end_time": "2019-12-23T05:56:09.361713Z",
     "start_time": "2019-12-23T05:56:09.355447Z"
    }
   },
   "outputs": [],
   "source": [
    "def wiki_svd_recommender(input_city): \n",
    "\n",
    "    city_index = match_words(input_city)\n",
    "    print('You entered: ', city_country_dict[city_index])\n",
    "\n",
    "    return [city_country_dict[index] for index in wiki_svd_city_dist[city_index].argsort()[1:total_num_recs]]"
   ]
  },
  {
   "cell_type": "code",
   "execution_count": 33,
   "metadata": {
    "ExecuteTime": {
     "end_time": "2019-12-23T05:56:19.940034Z",
     "start_time": "2019-12-23T05:56:19.917600Z"
    },
    "scrolled": true
   },
   "outputs": [
    {
     "name": "stdout",
     "output_type": "stream",
     "text": [
      "You entered:  new york city united states\n"
     ]
    },
    {
     "data": {
      "text/plain": [
       "['philadelphia united states',\n",
       " 'chicago united states',\n",
       " 'southampton united kingdom',\n",
       " 'buffalo united states',\n",
       " 'atlanta united states',\n",
       " 'taipei taiwan',\n",
       " 'rio de janeiro brazil',\n",
       " 'san francisco united states',\n",
       " 'tel aviv israel',\n",
       " 'new orleans united states',\n",
       " 'sao paulo brazil',\n",
       " 'charlotte united states',\n",
       " 'louisville united states',\n",
       " 'copenhagen denmark',\n",
       " 'seattle united states',\n",
       " 'rochester mn united states',\n",
       " 'minneapolis united states',\n",
       " 'aarhus denmark',\n",
       " 'salvador brazil',\n",
       " 'beijing china']"
      ]
     },
     "execution_count": 33,
     "metadata": {},
     "output_type": "execute_result"
    }
   ],
   "source": [
    "wiki_svd_recommender('new york city')"
   ]
  },
  {
   "cell_type": "markdown",
   "metadata": {},
   "source": [
    "# Hybrid Recommendations"
   ]
  },
  {
   "cell_type": "code",
   "execution_count": 34,
   "metadata": {
    "ExecuteTime": {
     "end_time": "2019-12-23T05:56:21.782454Z",
     "start_time": "2019-12-23T05:56:21.708601Z"
    }
   },
   "outputs": [
    {
     "name": "stdout",
     "output_type": "stream",
     "text": [
      "You entered:  tokyo japan\n",
      "You entered:  miami united states\n"
     ]
    },
    {
     "data": {
      "text/html": [
       "<div>\n",
       "<style scoped>\n",
       "    .dataframe tbody tr th:only-of-type {\n",
       "        vertical-align: middle;\n",
       "    }\n",
       "\n",
       "    .dataframe tbody tr th {\n",
       "        vertical-align: top;\n",
       "    }\n",
       "\n",
       "    .dataframe thead th {\n",
       "        text-align: right;\n",
       "    }\n",
       "</style>\n",
       "<table border=\"1\" class=\"dataframe\">\n",
       "  <thead>\n",
       "    <tr style=\"text-align: right;\">\n",
       "      <th></th>\n",
       "      <th>city_recommendation</th>\n",
       "      <th>score</th>\n",
       "    </tr>\n",
       "  </thead>\n",
       "  <tbody>\n",
       "    <tr>\n",
       "      <th>0</th>\n",
       "      <td>bangkok thailand</td>\n",
       "      <td>2.571770</td>\n",
       "    </tr>\n",
       "    <tr>\n",
       "      <th>1</th>\n",
       "      <td>medellin colombia</td>\n",
       "      <td>2.500577</td>\n",
       "    </tr>\n",
       "    <tr>\n",
       "      <th>2</th>\n",
       "      <td>los angeles united states</td>\n",
       "      <td>2.233932</td>\n",
       "    </tr>\n",
       "    <tr>\n",
       "      <th>3</th>\n",
       "      <td>ottawa canada</td>\n",
       "      <td>1.866526</td>\n",
       "    </tr>\n",
       "    <tr>\n",
       "      <th>4</th>\n",
       "      <td>kyoto japan</td>\n",
       "      <td>1.652586</td>\n",
       "    </tr>\n",
       "    <tr>\n",
       "      <th>5</th>\n",
       "      <td>helsinki finland</td>\n",
       "      <td>1.499709</td>\n",
       "    </tr>\n",
       "    <tr>\n",
       "      <th>6</th>\n",
       "      <td>boston united states</td>\n",
       "      <td>1.332476</td>\n",
       "    </tr>\n",
       "    <tr>\n",
       "      <th>7</th>\n",
       "      <td>mexico city mexico</td>\n",
       "      <td>1.042445</td>\n",
       "    </tr>\n",
       "    <tr>\n",
       "      <th>8</th>\n",
       "      <td>amsterdam netherlands</td>\n",
       "      <td>1.000000</td>\n",
       "    </tr>\n",
       "    <tr>\n",
       "      <th>9</th>\n",
       "      <td>philadelphia united states</td>\n",
       "      <td>1.000000</td>\n",
       "    </tr>\n",
       "  </tbody>\n",
       "</table>\n",
       "</div>"
      ],
      "text/plain": [
       "          city_recommendation     score\n",
       "0            bangkok thailand  2.571770\n",
       "1           medellin colombia  2.500577\n",
       "2   los angeles united states  2.233932\n",
       "3               ottawa canada  1.866526\n",
       "4                 kyoto japan  1.652586\n",
       "5            helsinki finland  1.499709\n",
       "6        boston united states  1.332476\n",
       "7          mexico city mexico  1.042445\n",
       "8       amsterdam netherlands  1.000000\n",
       "9  philadelphia united states  1.000000"
      ]
     },
     "execution_count": 34,
     "metadata": {},
     "output_type": "execute_result"
    }
   ],
   "source": [
    "collab_user_user_recommender_tfidf(['Tokyo', 'Miami United States'])"
   ]
  },
  {
   "cell_type": "code",
   "execution_count": 35,
   "metadata": {
    "ExecuteTime": {
     "end_time": "2019-12-23T05:56:24.935197Z",
     "start_time": "2019-12-23T05:56:24.907613Z"
    },
    "cell_style": "split"
   },
   "outputs": [
    {
     "name": "stdout",
     "output_type": "stream",
     "text": [
      "You entered:  tokyo japan\n"
     ]
    },
    {
     "data": {
      "text/plain": [
       "['kyoto japan',\n",
       " 'osaka japan',\n",
       " 'daejeon south korea',\n",
       " 'taipei taiwan',\n",
       " 'fukuoka japan',\n",
       " 'kobe japan',\n",
       " 'sapporo japan',\n",
       " 'beijing china',\n",
       " 'taichung taiwan',\n",
       " 'singapore singapore',\n",
       " 'hiroshima japan',\n",
       " 'shanghai china',\n",
       " 'dalian china',\n",
       " 'nanjing china',\n",
       " 'sendai japan',\n",
       " 'seoul south korea',\n",
       " 'new york city united states',\n",
       " 'gwangju south korea',\n",
       " 'tainan taiwan',\n",
       " 'zhengzhou china']"
      ]
     },
     "execution_count": 35,
     "metadata": {},
     "output_type": "execute_result"
    }
   ],
   "source": [
    "wiki_svd_recommender('Tokyo')"
   ]
  },
  {
   "cell_type": "code",
   "execution_count": 36,
   "metadata": {
    "ExecuteTime": {
     "end_time": "2019-12-23T05:56:25.277696Z",
     "start_time": "2019-12-23T05:56:25.247856Z"
    },
    "cell_style": "split"
   },
   "outputs": [
    {
     "name": "stdout",
     "output_type": "stream",
     "text": [
      "You entered:  miami united states\n"
     ]
    },
    {
     "data": {
      "text/plain": [
       "['orlando united states',\n",
       " 'pensacola united states',\n",
       " 'tampa united states',\n",
       " 'fort lauderdale united states',\n",
       " 'daytona beach united states',\n",
       " 'sarasota united states',\n",
       " 'jacksonville united states',\n",
       " 'santa barbara united states',\n",
       " 'port st lucie united states',\n",
       " 'melbourne fl united states',\n",
       " 'buenos aires argentina',\n",
       " 'fort myers united states',\n",
       " 'buffalo united states',\n",
       " 'birmingham al united states',\n",
       " 'zurich switzerland',\n",
       " 'atlanta united states',\n",
       " 'seattle united states',\n",
       " 'chicago united states',\n",
       " 'phoenix united states',\n",
       " 'raleigh united states']"
      ]
     },
     "execution_count": 36,
     "metadata": {},
     "output_type": "execute_result"
    }
   ],
   "source": [
    "wiki_svd_recommender('Miami United States')"
   ]
  },
  {
   "cell_type": "markdown",
   "metadata": {},
   "source": [
    "So using both the Collaborative and Content Based Models, a user has a more robust recommendation than simply looking at the most popular places to visit in the world."
   ]
  },
  {
   "cell_type": "code",
   "execution_count": null,
   "metadata": {},
   "outputs": [],
   "source": []
  }
 ],
 "metadata": {
  "kernelspec": {
   "display_name": "Python 3",
   "language": "python",
   "name": "python3"
  },
  "language_info": {
   "codemirror_mode": {
    "name": "ipython",
    "version": 3
   },
   "file_extension": ".py",
   "mimetype": "text/x-python",
   "name": "python",
   "nbconvert_exporter": "python",
   "pygments_lexer": "ipython3",
   "version": "3.7.5"
  },
  "toc": {
   "base_numbering": 1,
   "nav_menu": {},
   "number_sections": true,
   "sideBar": true,
   "skip_h1_title": false,
   "title_cell": "Table of Contents",
   "title_sidebar": "Contents",
   "toc_cell": false,
   "toc_position": {},
   "toc_section_display": true,
   "toc_window_display": true
  }
 },
 "nbformat": 4,
 "nbformat_minor": 2
}
