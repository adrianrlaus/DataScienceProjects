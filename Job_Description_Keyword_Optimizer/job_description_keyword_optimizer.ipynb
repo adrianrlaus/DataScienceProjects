{
 "cells": [
  {
   "cell_type": "code",
   "execution_count": 1,
   "metadata": {
    "ExecuteTime": {
     "end_time": "2020-01-13T01:06:31.623387Z",
     "start_time": "2020-01-13T01:06:27.721917Z"
    }
   },
   "outputs": [],
   "source": [
    "# web scraping\n",
    "from bs4 import BeautifulSoup\n",
    "from selenium import webdriver\n",
    "from selenium.webdriver.common.keys import Keys\n",
    "import requests\n",
    "import time\n",
    "import os\n",
    "\n",
    "# NLP\n",
    "from fuzzywuzzy import fuzz\n",
    "from gensim.utils import simple_preprocess\n",
    "from gensim.parsing.preprocessing import preprocess_string, strip_tags, strip_punctuation, \\\n",
    "    strip_multiple_whitespaces, strip_numeric, remove_stopwords\n",
    "import re\n",
    "\n",
    "# misc\n",
    "from collections import defaultdict, Counter\n",
    "import pickle\n",
    "from tqdm import tqdm # progess bar"
   ]
  },
  {
   "cell_type": "code",
   "execution_count": 3,
   "metadata": {
    "ExecuteTime": {
     "end_time": "2020-01-13T01:06:52.364468Z",
     "start_time": "2020-01-13T01:06:52.359379Z"
    }
   },
   "outputs": [],
   "source": [
    "def count_keywords(string):\n",
    "    CUSTOM_FILTERS = [lambda x: x.lower(), strip_tags, strip_punctuation, strip_multiple_whitespaces,\n",
    "                     strip_numeric, remove_stopwords]\n",
    "    return Counter(preprocess_string(string, CUSTOM_FILTERS))\n",
    "\n",
    "# asks the user how many job descriptions they would like to find keywords for\n",
    "num_jobs = 0\n",
    "while num_jobs == 0:\n",
    "    try: \n",
    "        num_jobs = int(input(\"Enter the number of jobs: \\n\"))\n",
    "    except ValueError:\n",
    "        print('Not a valid entry.')\n",
    "        \n",
    "# paste text\n",
    "job_descriptions = ''\n",
    "for i in range(num_jobs):\n",
    "    job_descriptions += input(\"Paste job description: \\n\")\n",
    "    \n",
    "# Find important keywords\n",
    "keyword_count = count_keywords(job_descriptions)\n",
    "sorted_keyword_count = \\\n",
    "    {key: value for key, value in sorted(keyword_count.items(), key=lambda item: item[1], reverse=True)}\n",
    "\n",
    "# Print keywords that occur more than once\n",
    "print('\\nImportant Keywords Are: \\n')\n",
    "for key, value in sorted_keyword_count.items():\n",
    "    print(key, value)"
   ]
  },
  {
   "cell_type": "markdown",
   "metadata": {},
   "source": [
    "# Moving Forward:\n",
    ">**To make this tool more robust, adding more `stopwords` specific to job descriptions and posts would be beneficial.**"
   ]
  }
 ],
 "metadata": {
  "kernelspec": {
   "display_name": "Python 3",
   "language": "python",
   "name": "python3"
  },
  "language_info": {
   "codemirror_mode": {
    "name": "ipython",
    "version": 3
   },
   "file_extension": ".py",
   "mimetype": "text/x-python",
   "name": "python",
   "nbconvert_exporter": "python",
   "pygments_lexer": "ipython3",
   "version": "3.7.5"
  },
  "toc": {
   "base_numbering": 1,
   "nav_menu": {},
   "number_sections": false,
   "sideBar": true,
   "skip_h1_title": false,
   "title_cell": "",
   "title_sidebar": "Contents",
   "toc_cell": false,
   "toc_position": {},
   "toc_section_display": true,
   "toc_window_display": false
  }
 },
 "nbformat": 4,
 "nbformat_minor": 2
}
