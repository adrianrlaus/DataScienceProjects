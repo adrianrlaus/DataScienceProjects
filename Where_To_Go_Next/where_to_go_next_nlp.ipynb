{
 "cells": [
  {
   "cell_type": "markdown",
   "metadata": {},
   "source": [
    "# Cleaning scraped WikiVoyage descriptions"
   ]
  },
  {
   "cell_type": "code",
   "execution_count": 1,
   "metadata": {
    "ExecuteTime": {
     "end_time": "2019-12-23T04:31:46.402425Z",
     "start_time": "2019-12-23T04:31:42.566215Z"
    }
   },
   "outputs": [],
   "source": [
    "import pandas as pd\n",
    "import numpy as np\n",
    "import seaborn as sns\n",
    "\n",
    "import re\n",
    "import pickle\n",
    "from tqdm.notebook import tqdm as tqdm  # progress bar for x in tqdm(range(100))"
   ]
  },
  {
   "cell_type": "code",
   "execution_count": 2,
   "metadata": {
    "ExecuteTime": {
     "end_time": "2019-12-23T04:31:46.438400Z",
     "start_time": "2019-12-23T04:31:46.406100Z"
    }
   },
   "outputs": [],
   "source": [
    "# open links\n",
    "with open(\"city_info_final.pkl\", 'rb') as picklefile: \n",
    "    city_info_final = pickle.load(picklefile)"
   ]
  },
  {
   "cell_type": "code",
   "execution_count": 3,
   "metadata": {
    "ExecuteTime": {
     "end_time": "2019-12-23T04:31:46.479091Z",
     "start_time": "2019-12-23T04:31:46.442678Z"
    }
   },
   "outputs": [
    {
     "data": {
      "text/html": [
       "<div>\n",
       "<style scoped>\n",
       "    .dataframe tbody tr th:only-of-type {\n",
       "        vertical-align: middle;\n",
       "    }\n",
       "\n",
       "    .dataframe tbody tr th {\n",
       "        vertical-align: top;\n",
       "    }\n",
       "\n",
       "    .dataframe thead th {\n",
       "        text-align: right;\n",
       "    }\n",
       "</style>\n",
       "<table border=\"1\" class=\"dataframe\">\n",
       "  <thead>\n",
       "    <tr style=\"text-align: right;\">\n",
       "      <th></th>\n",
       "      <th>city</th>\n",
       "      <th>country</th>\n",
       "      <th>city_and_country</th>\n",
       "      <th>score</th>\n",
       "      <th>cost/month</th>\n",
       "      <th>fun</th>\n",
       "      <th>safety</th>\n",
       "      <th>quality_of_life</th>\n",
       "      <th>walkability</th>\n",
       "      <th>happiness</th>\n",
       "      <th>nightlife</th>\n",
       "      <th>wifi</th>\n",
       "      <th>friendly_to_foreigners</th>\n",
       "      <th>english</th>\n",
       "      <th>avg_trip_length_days</th>\n",
       "      <th>return_rate_percent</th>\n",
       "      <th>hotel_price_night</th>\n",
       "      <th>airbnb_price_night</th>\n",
       "      <th>visitors</th>\n",
       "      <th>link</th>\n",
       "    </tr>\n",
       "  </thead>\n",
       "  <tbody>\n",
       "    <tr>\n",
       "      <th>0</th>\n",
       "      <td>buenos-aires</td>\n",
       "      <td>Argentina</td>\n",
       "      <td>buenos aires argentina</td>\n",
       "      <td>4.88</td>\n",
       "      <td>1026.0</td>\n",
       "      <td>Good</td>\n",
       "      <td>Okay</td>\n",
       "      <td>Good</td>\n",
       "      <td>Great</td>\n",
       "      <td>Good</td>\n",
       "      <td>Great</td>\n",
       "      <td>Okay</td>\n",
       "      <td>Good</td>\n",
       "      <td>Okay</td>\n",
       "      <td>25.0</td>\n",
       "      <td>16.0</td>\n",
       "      <td>34.0</td>\n",
       "      <td>24.0</td>\n",
       "      <td>[/@krausefx, /@aczuleta, /@alexanderjoo, /@sil...</td>\n",
       "      <td>/wiki/Buenos_Aires</td>\n",
       "    </tr>\n",
       "    <tr>\n",
       "      <th>1</th>\n",
       "      <td>bangkok</td>\n",
       "      <td>Thailand</td>\n",
       "      <td>bangkok thailand</td>\n",
       "      <td>4.73</td>\n",
       "      <td>1522.0</td>\n",
       "      <td>Good</td>\n",
       "      <td>Good</td>\n",
       "      <td>Good</td>\n",
       "      <td>Great</td>\n",
       "      <td>Good</td>\n",
       "      <td>Great</td>\n",
       "      <td>Great</td>\n",
       "      <td>Great</td>\n",
       "      <td>Okay</td>\n",
       "      <td>7.0</td>\n",
       "      <td>18.0</td>\n",
       "      <td>31.0</td>\n",
       "      <td>51.0</td>\n",
       "      <td>[/@remyp, /@manas, /@timrael, /@dimqen, /@dani...</td>\n",
       "      <td>/wiki/Bangkok</td>\n",
       "    </tr>\n",
       "    <tr>\n",
       "      <th>2</th>\n",
       "      <td>mexico-city</td>\n",
       "      <td>Mexico</td>\n",
       "      <td>mexico city mexico</td>\n",
       "      <td>4.72</td>\n",
       "      <td>1493.0</td>\n",
       "      <td>Good</td>\n",
       "      <td>Okay</td>\n",
       "      <td>Good</td>\n",
       "      <td>Great</td>\n",
       "      <td>Good</td>\n",
       "      <td>Good</td>\n",
       "      <td>Okay</td>\n",
       "      <td>Good</td>\n",
       "      <td>Okay</td>\n",
       "      <td>14.0</td>\n",
       "      <td>14.0</td>\n",
       "      <td>30.0</td>\n",
       "      <td>31.0</td>\n",
       "      <td>[/@rohit, /@nadiaronquillo, /@evelienal, /@bri...</td>\n",
       "      <td>/wiki/Mexico_City/Santa_Fe</td>\n",
       "    </tr>\n",
       "    <tr>\n",
       "      <th>3</th>\n",
       "      <td>canggu</td>\n",
       "      <td>Indonesia</td>\n",
       "      <td>canggu indonesia</td>\n",
       "      <td>4.69</td>\n",
       "      <td>1389.0</td>\n",
       "      <td>Good</td>\n",
       "      <td>Great</td>\n",
       "      <td>Good</td>\n",
       "      <td>Okay</td>\n",
       "      <td>Okay</td>\n",
       "      <td>Good</td>\n",
       "      <td>Good</td>\n",
       "      <td>Great</td>\n",
       "      <td>Good</td>\n",
       "      <td>28.0</td>\n",
       "      <td>17.0</td>\n",
       "      <td>21.0</td>\n",
       "      <td>58.0</td>\n",
       "      <td>[/@tris, /@joytravels, /@guar47, /@mariebriand...</td>\n",
       "      <td>/wiki/Canggu</td>\n",
       "    </tr>\n",
       "    <tr>\n",
       "      <th>4</th>\n",
       "      <td>chiang-mai</td>\n",
       "      <td>Thailand</td>\n",
       "      <td>chiang mai thailand</td>\n",
       "      <td>4.68</td>\n",
       "      <td>1126.0</td>\n",
       "      <td>Good</td>\n",
       "      <td>Great</td>\n",
       "      <td>Good</td>\n",
       "      <td>Great</td>\n",
       "      <td>Good</td>\n",
       "      <td>Okay</td>\n",
       "      <td>Good</td>\n",
       "      <td>Good</td>\n",
       "      <td>Okay</td>\n",
       "      <td>28.0</td>\n",
       "      <td>15.0</td>\n",
       "      <td>25.0</td>\n",
       "      <td>41.0</td>\n",
       "      <td>[/@meedamian, /@zapperen, /@john, /@kymellis, ...</td>\n",
       "      <td>/wiki/Chiang_Mai</td>\n",
       "    </tr>\n",
       "  </tbody>\n",
       "</table>\n",
       "</div>"
      ],
      "text/plain": [
       "           city    country        city_and_country  score  cost/month   fun  \\\n",
       "0  buenos-aires  Argentina  buenos aires argentina   4.88      1026.0  Good   \n",
       "1       bangkok   Thailand        bangkok thailand   4.73      1522.0  Good   \n",
       "2   mexico-city     Mexico      mexico city mexico   4.72      1493.0  Good   \n",
       "3        canggu  Indonesia        canggu indonesia   4.69      1389.0  Good   \n",
       "4    chiang-mai   Thailand     chiang mai thailand   4.68      1126.0  Good   \n",
       "\n",
       "  safety quality_of_life walkability happiness nightlife   wifi  \\\n",
       "0   Okay            Good       Great      Good     Great   Okay   \n",
       "1   Good            Good       Great      Good     Great  Great   \n",
       "2   Okay            Good       Great      Good      Good   Okay   \n",
       "3  Great            Good        Okay      Okay      Good   Good   \n",
       "4  Great            Good       Great      Good      Okay   Good   \n",
       "\n",
       "  friendly_to_foreigners english  avg_trip_length_days  return_rate_percent  \\\n",
       "0                   Good    Okay                  25.0                 16.0   \n",
       "1                  Great    Okay                   7.0                 18.0   \n",
       "2                   Good    Okay                  14.0                 14.0   \n",
       "3                  Great    Good                  28.0                 17.0   \n",
       "4                   Good    Okay                  28.0                 15.0   \n",
       "\n",
       "   hotel_price_night  airbnb_price_night  \\\n",
       "0               34.0                24.0   \n",
       "1               31.0                51.0   \n",
       "2               30.0                31.0   \n",
       "3               21.0                58.0   \n",
       "4               25.0                41.0   \n",
       "\n",
       "                                            visitors  \\\n",
       "0  [/@krausefx, /@aczuleta, /@alexanderjoo, /@sil...   \n",
       "1  [/@remyp, /@manas, /@timrael, /@dimqen, /@dani...   \n",
       "2  [/@rohit, /@nadiaronquillo, /@evelienal, /@bri...   \n",
       "3  [/@tris, /@joytravels, /@guar47, /@mariebriand...   \n",
       "4  [/@meedamian, /@zapperen, /@john, /@kymellis, ...   \n",
       "\n",
       "                         link  \n",
       "0          /wiki/Buenos_Aires  \n",
       "1               /wiki/Bangkok  \n",
       "2  /wiki/Mexico_City/Santa_Fe  \n",
       "3                /wiki/Canggu  \n",
       "4            /wiki/Chiang_Mai  "
      ]
     },
     "execution_count": 3,
     "metadata": {},
     "output_type": "execute_result"
    }
   ],
   "source": [
    "city_info_final.head()"
   ]
  },
  {
   "cell_type": "markdown",
   "metadata": {},
   "source": [
    "# DataFrame"
   ]
  },
  {
   "cell_type": "code",
   "execution_count": 4,
   "metadata": {
    "ExecuteTime": {
     "end_time": "2019-12-23T04:31:48.897799Z",
     "start_time": "2019-12-23T04:31:48.840466Z"
    }
   },
   "outputs": [],
   "source": [
    "# open links\n",
    "with open(\"wiki_voyage_content.pkl\", 'rb') as picklefile: \n",
    "    wiki_voyage_content = pickle.load(picklefile)"
   ]
  },
  {
   "cell_type": "code",
   "execution_count": 5,
   "metadata": {
    "ExecuteTime": {
     "end_time": "2019-12-23T04:31:53.947652Z",
     "start_time": "2019-12-23T04:31:53.941781Z"
    }
   },
   "outputs": [],
   "source": [
    "# convert to dataframe\n",
    "wiki_voyage_content_df = pd.DataFrame(wiki_voyage_content)\n",
    "wiki_voyage_content_df.columns=['content']"
   ]
  },
  {
   "cell_type": "code",
   "execution_count": 6,
   "metadata": {
    "ExecuteTime": {
     "end_time": "2019-12-23T04:31:55.688727Z",
     "start_time": "2019-12-23T04:31:55.676499Z"
    }
   },
   "outputs": [
    {
     "data": {
      "text/html": [
       "<div>\n",
       "<style scoped>\n",
       "    .dataframe tbody tr th:only-of-type {\n",
       "        vertical-align: middle;\n",
       "    }\n",
       "\n",
       "    .dataframe tbody tr th {\n",
       "        vertical-align: top;\n",
       "    }\n",
       "\n",
       "    .dataframe thead th {\n",
       "        text-align: right;\n",
       "    }\n",
       "</style>\n",
       "<table border=\"1\" class=\"dataframe\">\n",
       "  <thead>\n",
       "    <tr style=\"text-align: right;\">\n",
       "      <th></th>\n",
       "      <th>content</th>\n",
       "    </tr>\n",
       "  </thead>\n",
       "  <tbody>\n",
       "    <tr>\n",
       "      <th>0</th>\n",
       "      <td>\\n Buenos Aires is the capital of Argentina.\\n...</td>\n",
       "    </tr>\n",
       "    <tr>\n",
       "      <th>1</th>\n",
       "      <td>\\n Bangkok (Thai: กรุงเทพฯ Krung Thep) is the ...</td>\n",
       "    </tr>\n",
       "    <tr>\n",
       "      <th>2</th>\n",
       "      <td>\\n Santa Fe is in the western area of Mexico C...</td>\n",
       "    </tr>\n",
       "    <tr>\n",
       "      <th>3</th>\n",
       "      <td>\\nCanggu is a beach area in South Bali, north ...</td>\n",
       "    </tr>\n",
       "    <tr>\n",
       "      <th>4</th>\n",
       "      <td>\\n Chiang Mai (เชียงใหม่) is the hub of northe...</td>\n",
       "    </tr>\n",
       "  </tbody>\n",
       "</table>\n",
       "</div>"
      ],
      "text/plain": [
       "                                             content\n",
       "0  \\n Buenos Aires is the capital of Argentina.\\n...\n",
       "1  \\n Bangkok (Thai: กรุงเทพฯ Krung Thep) is the ...\n",
       "2  \\n Santa Fe is in the western area of Mexico C...\n",
       "3  \\nCanggu is a beach area in South Bali, north ...\n",
       "4  \\n Chiang Mai (เชียงใหม่) is the hub of northe..."
      ]
     },
     "execution_count": 6,
     "metadata": {},
     "output_type": "execute_result"
    }
   ],
   "source": [
    "wiki_voyage_content_df.head()"
   ]
  },
  {
   "cell_type": "markdown",
   "metadata": {},
   "source": [
    "# Corpus"
   ]
  },
  {
   "cell_type": "code",
   "execution_count": 7,
   "metadata": {
    "ExecuteTime": {
     "end_time": "2019-12-23T04:31:58.364127Z",
     "start_time": "2019-12-23T04:31:58.360707Z"
    }
   },
   "outputs": [],
   "source": [
    "corpus = wiki_voyage_content"
   ]
  },
  {
   "cell_type": "code",
   "execution_count": 8,
   "metadata": {
    "ExecuteTime": {
     "end_time": "2019-12-23T04:31:59.278154Z",
     "start_time": "2019-12-23T04:31:59.266054Z"
    }
   },
   "outputs": [
    {
     "data": {
      "text/plain": [
       "'\\n Bangkok (Thai: กรุงเทพฯ Krung Thep) is the capital and largest city of Thailand and, with a population of over eleven million inhabitants, by far its main city. Its high-rise buildings, heavy traffic congestion, intense heat and naughty nightlife do not immediately give you a warm welcome — but don\\'t let your first impression mislead you. It is one of Asia\\'s most cosmopolitan cities with magnificent temples and palaces, authentic canals, busy markets and a vibrant nightlife that has something for everyone.\\n For years, it was only a small trading post at the banks of the Chao Phraya River, until King Rama I, the first monarch of the present Chakri dynasty, turned it into the capital of Siam in 1782, after the burning of Ayutthaya by Burmese invaders. Since then, Bangkok has turned into a national treasure house and functions as Thailand\\'s spiritual, cultural, political, commercial, educational and diplomatic centre.\\n Bangkok is a huge and modern city humming with nightlife and fervor. Administratively, it is split up into 50 districts (เขต khet), which are further split into 180 sub-districts (แขวง khwaeng), but these are more often used in official business and for addresses. Visitors will find the conceptual division below of the main areas more useful for getting around.\\n \\n\\n\\n\\n Around Bangkok are the provinces of Nakhon Pathom to the west, Nonthaburi to the northwest, Pathum Thani to the north, Chachoengsao to the east, Samut Prakan to the southeast and Samut Sakhon to the southwest.\\n Just under 14 degrees north of the equator, Bangkok is a tropical metropolis that is also one of the most traveller-friendly cities in Asia. A furious assault on the senses, visitors are immediately confronted by the heat, the pollution, unpleasant smells, and the irrepressible smile worn by many Thais. Despite the sensationalised international news reports and first impressions, the city is surprisingly safe (except for petty crimes) and more organised than it initially appears, and is full of hidden gems waiting to be discovered. The high relative humidity and warm temperature favour the growth of tropical plants — you\\'ll find exotic orchids and delicious fruit everywhere. Bougainvillea and frangipani bloom practically all over the city. Thai cuisine is justifiably famous, varied, and affordable. Bangkok for many represents the quintessential Asian capital. Saffron-robed monks, garish neon signs, graceful Thai architecture, spicy dishes, colourful markets, traffic jams, and the tropical climate come together in a happy coincidence. It is difficult to leave with only lukewarm impressions of the city.\\n \"Bangkok\" was originally a small village on the west bank of the Chao Phraya River. After the fall of Ayutthaya in the late 18th century, King Taksin the Great turned that village into Siam\\'s new capital and renamed it Thonburi. In 1782, King Rama I moved the capital to the eastern bank of the river at Rattanakosin; originally the site of a Chinese community, which was moved outside of the new city walls to Yaowarat. King Rama I named the city Krung Thep, as it is now known to Thais and which in English translates as the \"City of Angels\".\\n The full name \"Krung thep mahanakhon amorn ratanakosin mahintharayutthaya mahadilok popnoparat ratchathani burirom udomratchanivetmahasathan amornpiman avatarnsathit sakkathattiyavisnukarmprasit\" (กรุงเทพมหานคร อมรรัตนโกสินทร์ มหินทรายุธยามหาดิลกภพ นพรัตน์ราชธานี บุรีรมย์อุดมราชนิเวศน์มหาสถาน อมรพิมานอวตารสถิต สักกะทัตติยะวิษณุกรรมประสิทธิ์) is listed as the world\\'s longest location name by the Guinness Book of Records; an English rendering goes like this: \"The city of angels, the great city, the residence of the Emerald Buddha, the impregnable city of Ayutthaya of God Indra, the grand capital of the world endowed with nine precious gems, the happy city, abounding in an enormous Royal Palace that resembles the heavenly abode where reigns the reincarnated god, a city given by Indra and built by Vishnukarn\". Foreigners never caught on to the change, so in foreign languages Krung Thep inherited the name Bangkok, which became its formal English name. For Thais, the name Bangkok refers to the former village on the west bank of the Chao Phraya, which was incorporated into Greater Bangkok in 1971.\\n Life was taking place on the water; ordinary people lived on bamboo-rafts along the river, while floating vendors roamed the water to sell fruit and vegetables. The only stone structures built on land were temples and palaces. In the 19th-century, Western powers incorporated much of Southeast Asia into their colonial empires. Kings Rama IV and V felt that the only way to keep Siam independent was to modernise the country along European lines. Traditional canals were filled up and turned into roads. King Rama V moved the residence of the King to Dusit and laid out that district\\'s grand boulevards along European lines.\\n Bangkok really started to develop after World War II. The economic centre shifted from the orderly planned city of Rattanakosin in an eastward direction, leaving Bangkok without an obvious centre. Bangkok established itself as the driving power behind Thailand\\'s new role as a newly industrializing country from the 1980s onwards. Rapid economic growth has attracted migration from the countryside, with millions of Thais moving here from Isaan and other regions to make a living. As Thailand has grown into the main economic centre of the region, in modern times, Bangkok has also attracted many migrant workers from neighbouring Myanmar, Laos and Cambodia.\\n This rapid expansion turned Bangkok into one of the most cosmopolitan and happening cities in Asia; but also ensured numerous problems. A wide gap has emerged between those who profit from economic activity, and those who came to the city from the countryside in search of work. Bangkok\\'s seemingly never-ending traffic jams continue as the new Skytrain and MRT systems are too expensive for the working class. Getting a break from the fumes in a park would seem to be a good idea, but unfortunately Bangkok has the lowest amount of green space of all capital cities in the world.\\n Addresses in Bangkok use the Thai addressing system, which may be a little confusing to the uninitiated. Large roads such as Silom or Sukhumvit are thanon (ถนน), often abbreviated Th or glossed \"Road\", while the side streets branching off from them are called soi (ซอย). Sois are numbered, with even numbers on one side and odd numbers on the other side. Thus, an address like \"25 Sukhumvit Soi 3\" means house/building number 25 on the 3rd soi of Sukhumvit Road. While the soi numbers on each side will always advance upward, the numbers often do not advance evenly between sides — for example, Soi 55 could be across from Soi 36. Many well-known sois have an additional name, which can be used instead of the number. Sukhumvit Soi 3 is also known as \"Soi Nana Nuea\", so the address above might thus also be expressed as \"25 Soi Nana Nuea\". The extension /x is used for new streets created between existing streets, as seen in Sukhumvit\\'s soi pattern 7, 7/1, 7/2, 9, 11. Some short alleys are called trok (ตรอก) instead of soi.\\n To make things a little more complex, some large sois like Soi Ekkamai (Sukhumvit Soi 63) and Soi Ari (Phahonyothin Soi 7) have their own sois. In these cases, an address like \"Ari Soi 3\" means \"the 3rd soi off Soi Ari\", and you may even spot addresses like \"68/2 Ekkamai Soi 4, Sukhumvit Road\", meaning \"2nd house beside house 68, in the 4th soi of Ekkamai, which is the 63rd soi of Sukhumvit\". In many sois, the house numbers are not simply increasing, but may spread around.\\n To further bewilder the tourist who doesn\\'t read Thai, the renderings of Thai street names in the Latin alphabet are not consistent. The road running towards Don Mueang Airport from Victory Monument may be spelled Phahonyothin or Phahon Yothin or Pahon Yothin or Phaholyothin depending on which street sign or map you consult. It\\'s all the same in Thai, of course, only the romanisation varies.\\n And if that\\'s not confusing enough, most of the larger streets tend to change names altogether every few kilometres. Sukhumvit is called Sukhumvit on one side of the tollway (roughly east), but it becomes Phloen Chit just before you cross Witthayu Road (aka Wireless Road) going towards the river. Keep going just a few more streets and it becomes Rama I Road (or Phra Ram Neung Road) after you pass Ratchadamri Road. But if you were to turn right onto Ratchadamri, in just a few blocks you\\'ll find yourself on Ratchaprarop Road (past Phetchaburi, aka New Phetburi, which is called Phitsanulok closer to the river).\\n Fortunately, there\\'s logic to these name changes: most of them are neighbourhoods. It wouldn\\'t make sense to call the road Sukhumvit if it\\'s no longer running through the Sukhumvit area, would it? Thus, Sukhumvit becomes Phloen Chit where it runs through the Phloen Chit area. It\\'s when you\\'re able to grasp the city in terms of its neighbourhoods that it both becomes more navigable and more charming. Likewise, Pratunam and Chatuchak are much more than just markets; they\\'re neighbourhoods, each with their own distinct character.\\n Compass directions are not widely used by Thais to navigate in Bangkok. Thus, asking for directions in terms of \"Is that west from here?\" will probably earn you little more than a confused look from a local. You\\'re better off to familiarise yourself with the neighbourhoods and navigate to and from them. \"How do I get to Thong Lo?\" will get you there faster than asking for directions to Sukhumvit Soi 55.\\n One exception: the Chao Phraya River is the landmark in Bangkok, and many directional references can be made as \"toward the river\" or \"away from the river\". If you aren\\'t too close, that is: since the river winds around the most popular tourist areas, river references tend to be most helpful when you\\'re wandering farther afield than Khao San Road, Sanam Luang or Rattanakosin. And wander you should.\\n According to the World Meteorological Organization, Bangkok is the world\\'s hottest city. Just 14 degrees north of the equator, Bangkok is sunny at all times of the year with temperatures over 30°C (86°F).\\n The most pleasant time to visit is the cool season that lasts from Nov-Feb. It is both the coolest and driest period — the Emerald Buddha statue in Wat Phra Kaeo even wears a scarf during this period! Don\\'t think that\\'s necessary though — daytime temperatures still hover around 30°C (86°F), but it does cool down into the lower 20s as it gets dark (lower 70s in Fahrenheit), and on rare occasions can even dip as low as 15°C. March and April represent the hot season, and hot it is — 35°C (95°F) on average, but don\\'t be surprised to see heat indices rising into the 50s °C (around 120 °F+). This is the worst season to visit Bangkok, so plan in a lot of air-conditioned shopping mall visits and get a hotel with a swimming pool. Then there\\'s the wet season that runs from May-Oct. Expect massive downpours resulting in floods all over the city, and spells of thunder at times. It\\'s not all bad though — the afternoon showers are actually a pleasant way to cool down from the heat, and while they may last all day, usually they\\'re over within an hour. Extreme rainfall happens in September and October, so these months are best avoided.\\n Whatever season you\\'re visiting, don\\'t take the weather lightly — temple-tramping in the scorching afternoon sun can be a challenge, so come well-prepared. Dress lightly for the weather, but keep in mind that some palaces and temples (notably the Grand Palace) have a strict dress code, i.e., everyone must fully cover their torso, legs and upper arms. So shorts, halter tops, etc. will deny you entry. At entrances to some major attractions, vendors may rent needed coverage.\\n Also be sure you drink enough fluids! You have no excuse not to, as 7-Elevens and other convenience stores are abundant in Bangkok and sell cooled beverages for as little as 10 baht. Locals get their water from \"reverse osmosis\" purified water machines that fill up a one litre bottle for 1 baht, but the potability for visitors may vary.\\n Foreign films were popular in Thailand from the get-go, but in the 1920s a local film industry started to emerge in Bangkok. The most critically acclaimed Thai films were produced in the \"three waves\" of the Thai film industry, the 1930s, the 1950s and the late 1990s/early 2000s, although films made before World War II have unfortunately been lost. Predominant genres are action, historical epics, romance and gay/transgender films, almost always intertwined with elements of comedy. The following are staged (at least partly) in Bangkok:\\n The main language in Bangkok is the central dialect of Thai, which differs somewhat from the northern dialect spoken around Chiang Mai. However, due to the presence of large numbers of tourists, many people working in the service industry have a basic grasp of English, as do staff at many of the popular food stalls.\\n Bangkok is also home to a large ethnic Chinese community, many of whom are bilingual in Teochew and Thai.\\n Bangkok is served by two airports: Suvarnabhumi Airport (BKK\\xa0IATA) and Don Mueang Airport (DMK\\xa0IATA). Suvarnabhumi Airport is the main airport and used by all full-service airlines, but Nok Air, Orient Thai, Air Asia, Scoot, and some other low cost carriers use Don Mueang Airport. Both airports lie about 30\\xa0km (19\\xa0mi) out on opposite sides of the city, so be prepared for a long ride to get into the city centre, and an even longer ride to transfer between them. A free transfer bus between the two airports is available if you can show an appropriate boarding pass. On a good day this takes about an hour, but the highway is often badly congested, so always allow 2–3 hr for this transfer. It is a good idea to have Thai baht ready for connecting to the city. Good money changing options are available at the BKK metro station.\\n 13.6925100.751 Suvarnabhumi Airport (สุวรรณภูมิ BKK\\xa0IATA) (30 km (19\\xa0mi) east of Bangkok). Space-age Suvarnabhumi Airport started operations in Sep 2006 and is now Bangkok\\'s main airport and one of the busiest airports in Southeast Asia. It is used for international and domestic flights to Bangkok. There is only one terminal building, which covers both domestic and international flights. It is huge, and by some measures the world\\'s largest, so allow time for getting around. There are two immigration sections, but processing time can be lengthy, at least 30 min and on bad days almost 2 hr.  \\xa0\\n On the basement level of the passenger terminal, the Airport Rail Link offers a speedy train service to downtown. It\\'s also a way of avoiding Bangkok\\'s horrendous rush hour traffic, particularly when it\\'s raining. Trains depart 06:00-midnight every day. The City Line is a commuter rail line that stops at all stations. Trains leave every 10-13 min, and after Makkasan station they continue to Ratchaprarop and Phaya Thai stations. The ride to Phaya Thai takes 26 min from the airport and costs 45 baht.\\n You can also take a free shuttle bus to the airport bus terminal aka Transportation Centre to catch inexpensive city buses. These may be convenient if you are going to a suburban area like Rangsit or Bang Kapi. Since June 2017 express bus S1 runs from the terminal building to Khao San Road.\\n If you need a taxi, ordinary metered taxis are available on the first floor (one floor below arrivals). Follow the \"public taxi\" signs that lead to the outside of the airport premises. ATM-style ticket booths dispense numbered slips, with the number indicating the bay in which your taxi is parked. You can choose between a normal taxi good for 2 adults with baggage and a big taxi. Keep the slip since it helps to make a complaint if the driver scams you. There is a 50 baht surcharge on top of the meter (not per passenger), meaning that trips to the city will cost 250-400 baht (plus possible expressway tolls of 50 and 25 baht, depending on route). Make sure you have change ready to pass to the toll operators to avoid being overcharged for the tolls later on. The ride takes about 45–60 min depending on traffic and destination.\\n 13.9125100.60672 Don Mueang Airport (ดอนเมือง DMK\\xa0IATA) (about 30\\xa0km (19\\xa0mi) north of Sukhumvit). This was Bangkok\\'s main airport until 2006. These days, the airport primarily caters to budget carriers, and handles flights by Thai Lion Air, Scoot, Nok Air, Orient Thai and Air Asia. It is a bit harder to reach DMK than BKK due to the absence of direct rail connection.  \\xa0\\n When buying tickets for buses out of Bangkok, it\\'s best to skip travel agents and their private buses, and get the tickets for public buses directly at Bangkok\\'s three public bus terminals. These buses are cheaper, safer, faster, more comfortable and won\\'t scam you onto a clapped-out minibus halfway along the way or to a bedbug-infested hotel at the end. Each of these long haul bus terminals serve a different direction. They are purposefully located in off-central locations, so the long-haul buses avoid the heavy traffic congestion in the centre of the city. They are:\\n For travelling to Bangkok suburbs or locations within 200\\xa0km of the city, the fastest and often the cheapest way is to use public minibus (minivan) services. They run from parking lots beside the 13.7656100.5396 Victory Monument Square (Thai:อนุสาวรีย์ anusawarii) (Use footbridge leading north from BTS Victory Monument exit 2).  \\xa0. Facing the monument itself are the city bus stops, behind it there is a small market, and behind the market you will find many white-coloured minibuses just parking at the roadside and waiting for passengers. They depart when full, usually each 10–30 min. Fare is usually similar to long-distance buses with the same destination (if there are any). Other way, it could be estimated as 1 baht/km.\\n Since October 2016 the minibuses to other provinces have been relocated to the three public bus terminals which makes them far less convenient. The city is easing the transition by providing free shuttle buses from Victory Monument Square to the bus terminals. The shuttles to Southern Bus Terminal, and Northern and Northeastern Bus Terminal depart from the northwestern quadrant of the square. It is unclear how long these free shuttles will remain in place.\\n Destinations are written on the front and the side of the minibuses in Thai, so you should ask drivers or ticket sellers about your destination. Minivans are usually the fastest way of transportation because they take elevated expressways right from Victory Monument, thus avoiding traffic jams. Another advantage is that they start from the city centre of Bangkok and usually arrive at the city centre of their destination. Normal long distance buses sometimes stop further away from the city centre. Minibus drivers are infamous for unsafe driving and deadly accidents. A disadvantage of minibuses is that leg room is limited, and might be not comfortable for tall people. If you have bulky baggage you either keep it on your lap or buy a seat for it.\\n Some useful destinations within the city: Min Buri (around 30 baht, for Siam Park), Nava Nakorn (50 baht, for Don Mueang Airport or to get out along hwy 1 for hitching to the north/northeast), Phra Ram 2 (to the highway, for hitching to southern Thailand), Suvarnabhumi Airport (40 baht).\\n Some destinations served from Eastern Bus Terminal: Pattaya (130 baht), Ban Phe (for Ko Samet), Rayong, Chanthaburi.\\n Some destinations served from Northern and Northeastern Bus Terminal: Ayutthaya (around 70 baht), Lopburi.\\n Some destinations served from Southern Bus Terminal: Samut Songkhram, Samut Sakhon, Kanchanaburi, Phetchaburi, Hua Hin.\\n The State Railway of Thailand, ☏ +66 2 222-0175.  \\xa0 serves Bangkok with railway lines from all four directions of Thailand. 13.7389100.51677 Hualamphong Train Station (หัวลำโพง).  \\xa0 is the most important station. It\\'s close to Yaowarat and served by its own metro station. It is a big and surprisingly convenient station built during the reign of King Rama VI. It was spared bombing in World War II at the request of the Thai resistance movement.\\n Tickets for trains leaving the same or the next day can be bought at the counters under the big screens. The advance booking office is to the right of the platforms as you walk towards them and is quite well-organised. You can select your seat/berth from a plan of the train, and payments by credit card are accepted.\\n A word of advice is to only listen to the people at the information desk. Anyone else walking around offering to help you \"find\" a hotel or taxi is just a tout, even if they are wearing official-looking badges. Likewise, the second floor shops offering \"Tourist Information\" are just agents in disguise. The taxi pick up and drop off point is to the left of the platforms as you walk towards them, and is generally chaotic at busy periods with scant regard for any queue. The left luggage facility is at the opposite end of the concourse, on the far right as you walk away from the platforms.\\n If coming by train from the north or northeast, connecting to the metro at Bang Sue Train Station can shave the last half-hour off your train trip. This is not a very good place to board trains though, as there is practically no information or signage in English. However, this situation will doubtlessly improve as more and more long-distance departures are switched to here from Hualamphong Train Station to ease congestion in the inner city. To get from Bang Sue Train Station to Mo Chit 2 (Northern and Northeastern) bus terminal, you can take Bus 52 (9 baht) and then transfer to Bus 77 or Bus 3 at Mo Chit or Chatupak BTS.\\n Bangkok is also the northern terminus for the luxury Eastern & Oriental Express train, operated by Belmond. It runs two to three times per month between Bangkok, Kuala Lumpur and Singapore. Prices are well above a business class flight, starting at US$ 3,000.\\n Not many people come to Bangkok by cruise ship. Medium to large ships must dock at 13.0703100.894610 Laem Chabang Port.\\xa0 about 90+ min (varies considerably in rush hours) southeast of Bangkok and about 30 min north of Pattaya. A taxi service desk is available on the wharf, but charges extortionate prices for a trip to Bangkok, a whopping 2,600 baht to charter a taxi (4 passengers), or about 5,000 baht to charter a minibus (usually 11 passenger seats). Slightly lower prices can be found by walking out to the main road, about 4,000 baht for a minibus, but even these rates are still almost double the typical rate in the opposite direction. Better deals may be possible for round trips (even if returning the following day).\\n If you can easily get to and from the following bus terminals...\\n Smaller ships may dock well upriver at 13.703736100.57544711 Khlong Toei (Bangkok Cruise Port).  \\xa0 close to the city\\'s center. Reaching major hotels and the many major points of interest is cheaper and much quicker than from Laem Chabang. A modest terminal provides processing for passengers. You\\'ll also find \"managers\" inside who arrange tours and taxis. Costs can vary widely according to your negotiating skills or if you have the option of using a ship\\'s shuttle other locations. The facility is within an active freight port. (Its entrance is not close to the metro stop of the same name.) The distance to the very-active port entrance from the terminal (about a kilometer) and heavy traffic in-between mean pedestrians are not allowed. Thus, options to get to/from the terminal are metered taxi and ship\\'s bus/shuttle if offered.\\n Getting into Bangkok by car is not a good idea, as you can easily waste half a day waiting in traffic just to get to the other side of the city. Three major highways lead to Bangkok from every direction in Thailand. The best way to get to Bangkok from Northern Thailand is via Phahonyothin Road (Rte 1), which comes from Mae Sai near the Myanmar border. Sukhumvit Road (Rte 3) comes from cities in Eastern Thailand, such as Trat, Pattaya, and Chonburi. Phetkasem Road (Rte 4), one of the longest roads in the world, extends all the way to the Malaysian border, serving Southern Thailand.\\n To ease congestion on these highways, a new system of motorways has emerged which will be extended in the future. The New Bangkok-Chonburi Motorway (Motorway 7) connects Chonburi and Pattaya. The Kanchanaphisek National Highway (Motorway 9 or \"Outer Ring Road\") makes a giant loop around Bangkok serving most satellite towns around it such as Nonthaburi and Samut Prakan.\\n Bangkok is infamous for its congestion, but these days there are ways around it: hop on the Skytrain (BTS) and Metro (MRT) in the city centre, or use boats to navigate the city\\'s rivers and canals. Although too expensive for the average working class Thai, the Skytrain and MRT are reasonably priced by Western standards.\\n Transit Bangkok will make using public transport easier by choosing the best combination of buses, MRT, BTS to get to your destination.\\n The backbone of Bangkok\\'s public transportation system is three separate rail systems; the BTS Skytrain, the MRT, and the Airport Rail Link. Although transfers between different systems are fairly straightforward, their fare systems are not integrated and completely separate from each other, meaning that you will have to buy separate tickets for each leg of your journey. There is also no integrated stored value card that can be used for all three systems, so you will have a buy separate cards for each system you wish to use. That said, an integrated stored value card for all three systems, known as the Mangmoom Card, is planned, though its rollout has been subject to repeated delays. Different names are used by the different systems for the interchange stations. For instance, the interchange station known as Sukhumvit in the MRT system is known as Asok in the BTS system.\\n The rail network is complemented by the Chao Phraya Express Boat running on the Chao Phraya River, as well as a system of buses. None of these make use of a stored value card system, and fare payment is only accepted in cash.\\n The 13.802583100.55383312 Bangkok Skytrain (BTS) (รถไฟฟ้าบีทีเอส) deserves a visit simply for the Disneyland space-ageness of it. Built in a desperate effort to ease Bangkok\\'s insane traffic and pollution, the Skytrain covers most of the main areas of the city and is especially convenient for visiting Siam Square. There are two lines: the light green Sukhumvit Line travels along Sukhumvit Road, Siam Square and then follows Phahonyothin Road up north, where it terminates at Mo Chit (N8), near the Chatuchak Weekend Market. In April 2017 the eastbound section crossed the border to Samut Prakan when Samrong (E15) station opened. The dark green Silom Line starts in Petchkasem Road (Bang Wa station, S12), passes the Express Boat pier at Saphan Taksin (S6), goes through the Silom area and ends at National Stadium (W1), right next to MBK Center. Both lines come together at Siam (CEN), where you can interchange between them. Unfortunately, there is no station near Khao San Road, but you can take the Express Boat from Phra Arthit Pier to Sathorn Pier, where you can switch onto the Skytrain.  \\xa0\\n You must have 5 or 10 baht coins to purchase Skytrain tickets from vending machines, so hold on to them. At some stations there is a single touchscreen machine that will accept 20, 50 and 100 baht notes, but there is often a queue to use it. Fares range from 15 to 55 baht depending upon how many zones you are travelling. Consult the map (in English) near each ticket machine. If you do not have coins, queue for change from the staff at the booth. If you are in town for several days (or will make several visits during the next 30 days), weigh your options and consider\\xa0:\\n They will certainly save you time, scrambling for coins, and maybe even money. Check for information with the English speaking staff.\\n The trains do not run all night. The last departures from termini are 00:00-00:24, and first trains start at 05:15-05:30.\\n The Metropolitan Rapid Transit (MRT) (รถไฟฟ้ามหานคร). has two lines but is being extended with construction messing up traffic in some areas. The service started as a metro (subway) train but parts of the network run now on elevated track so the label Skytrain for the BTS is becoming confusing when the Airport Rail Link also uses similar construction.  \\xa0\\n The \\xa0Blue\\xa0 line connects the central Hualamphong Train Station to the northern Bang Sue Train Station, running through Silom, Sukhumvit, Ratchadaphisek and areas around Chatuchak Weekend Market in Phahonyothin. There are interchanges to the Skytrain at Si Lom, Sukhumvit and Chatuchak Park stations. The Purple Line connects Tao Poon market west of Bang Sue Train Station to points west in Nonthaburi way across Chao Phraya River. Free shuttle buses move passengers between Bang Sue and Tao Poon stations until the rails are complete.\\n Metro tickets are not interchangeable with BTS tickets. Fares range from 16 to 42 baht and are based on number of stations. The ticket vending machines accept coins and banknotes. Pre-paid cards of up to 1,000 baht are also available. For single ride fares, a round plastic token is used. It is electronic: simply wave it by the scanner to enter; deposit it in a slot by the exit gate leave. Children and elderly are issued tickets at half price but you must go to the ticketing counter.\\n The metro stations have escalators going all the way up and down in addition to lifts so the metro is easier than the Skytrain for people with reduced mobility or heavy baggage. Bag-checks take place at the entrance of each station. It is usually nothing more than a quick peek inside; it is a piece of pointless security theatre which will not stop any serious bomber.\\n Tourists do not use the MRT as much as the Skytrain, but there are several useful stops on the Blue Line. The terminus at Hua Lamphong provides a good access to Yaowarat. Lumphini is at Lumphini Park. Phetchaburi station provides an interchange with the Saen Saep Express Boat at Asok pier and with Airport Rail Link at Makkasan station. Phra Ram 9 is near Fortunetown IT mall which locals consider better than Pantip Plaza. Thailand Cultural Centre is also near Rot Fai Ratchada night market and Siam Niramit show. Lat Phrao is near Suan Lum Night Bazaar. If you\\'re going to the Chatuchak Weekend Market, don\\'t get out at Chatuchak Park, but go one stop further to Kamphaeng Phet as it drops you right inside the market.\\n The \\xa0Purple\\xa0 line is opening new areas for tourists. For example, the off-beat Siam Gypsy Junction near Tao Poon station is now much easier to access as a place where you can drink until sunrise.\\n Thailand\\'s main railway connecting Bangkok to the north and northeast provinces intersects the MRT at two points: Bang Sue and Hualamphong. Those staying at Khao San Road or in the Silom or Yaowarat areas can disembark at Hualamphong for easy access to these places. However, due to the many level crossings disembarking at Bang Sue and catching the metro will take you faster even to Hualamphong although it will cost a bit more. If you are heading from the train to Suvarnabhumi airport, disembark at Bang Sue, ride the metro to Phetchaburi and switch to Airport Rail Link at Makkasan.\\n Metro trains run 06:00-24:00.\\n Opened in 2010 the Airport Rail Link (รถไฟฟ้าเชื่อมท่าอากาศยานสุวรรณภูมิ). connects Suvarnabhumi Airport to the city. Only the City Line remains although the service started with a more expensive and faster Express Line. Also the City Air Terminal at Makkasan station has been dismantled due to lack of use.  \\xa0\\n The \\xa0ARL\\xa0 line (Airport Rail Link, city line) starts at Suvarnabhumi Airport and terminates at Phaya Thai, with some interesting stops in between (such as Ramkhamhaeng, Makkasan for the metro line and Ratchaprarop for Pratunam). A ticket costs 15-45 baht, depending on distance. Tickets are available from ticketing counters and vending machines accepting coins and banknotes. Trains run 06:00-00:00 on weekdays at 10-11\\xa0min intervals and otherwise at 12-13\\xa0min intervals. The ride from Suvarnabhumi to Phaya Thai takes about half an hour.\\n \\xa0ARL\\xa0 is now clearly a commuter train line which makes for busy trains but it is still useful for tourists. Tickets are cheap and there are up and down escalators in addition to lifts if you have baggage. If you board the train at Phaya Thai or Suvarnabhumi you most probably find a seat and space for your bags although the train cars have no luggage racks. At Makkasan station you can roll your bags along a roofed footbridge to Phetchaburi MRT station. At Phaya Thai station most passengers walk forward to the staircases. You need to turn back to the direction from which the train arrived for the lifts going down from the tracks. The lifts may be awfully busy but you will find escalators if you walk further. Once you exit through the ticket gates you can use a footbridge to the Phaya Thai BTS station.\\n A ride on the Chao Phraya River should be high on any tourist\\'s agenda. The cheapest and most popular option is the Chao Phraya Express Boat. , basically an aquatic bus cruising up and down the river.  \\xa0 The basic service goes from Wat Rajsingkorn (S4) all the way north to Nonthaburi (N30), with stops at most of Rattanakosin\\'s major attractions including the Grand Palace (at Tha Chang) and Wat Pho (at Tha Tien). The closest pier to Khao San Road is Phra Arthit. Enter the express boat at the numerous piers and pay the conductor for the trip. She will approach you bearing a long metal ticket dispenser. At some bigger piers you can buy the ticket before boarding. When the metal cylinder lady approaches you, just show her the ticket you bought on the pier.\\n The different boat lines are indicated by the colours of the flags at the top of the boat. These flags can be confusing; don\\'t think the yellow king\\'s flag corresponds to the yellow line flag! The orange flag line (14 baht, every day 06:00-19:00) is your best bet, as it covers the major tourist areas and is fairly quick. However, it does not stop at every pier unlike the basic \"no flag\" line (8, 10 or 12 baht) which is fairly slow and runs only during rush hours (M-F 06:45-07:30 and M-F 16:00-16:30). It is better to avoid the faster yellow flag line (19 or 29 baht, M-F 06:15-08:10 and M-F 15:30-18:05) since it skips many popular attractions including Khao San Road, the Grand Palace and Wat Pho. The green flag line (10, 12, 19 or 31 baht, M-F 06:10-08:10 and M-F 16:05-18:05) skips many piers but its Pakkred terminus is the closest pier to Ko Kret if you want to spend a weekday there.\\n In addition to the workaday express boats, there is a blue flagged Tourist Boat which stops at a small subset of piers, offers commentary in English and charges a flat 150 baht for a day pass. Single ride tickets are 40 baht. The boats are slightly more comfortable and may be worth considering if you want to cruise up and down the most important tourist sights. They only operate once per 30 min and stop running by 15:00. Be careful as staff may tell that the (cheaper) orange flag regular boat is not coming for quite a while (as they are aggressively touting for business), but sometimes this is not the truth. If you want the tourist experience with guide and (very) loud speaker commentary, often unintelligible, then this is the one for you. However, be aware that you are fully entitled to enter the public piers (the ones with the blue lettering on white background with pier numbers on them) and take whichever express boat you want since no ticket is needed before boarding.\\n The signposting of the piers is quite clear, with numbered piers and English route maps. Sathorn (Taksin) pier has been dubbed \"Central\" station, as it offers an quick interchange to Saphan Taksin BTS Station. The boats run every 5–20 min from sunrise to sunset (roughly from 06:00-19:00), so ignore any river taxi touts who try to convince you otherwise.\\n Many piers are also served by cross-river ferries. These are particularly useful for reaching Wat Arun or the many piers at the Thonburi side of the river. Cross-river ferries run around every 10 min and only cost 3.5 baht. Pay at the kiosk on the pier and then walk through the turnstile.\\n The Saen Saep Express Boat. serves the long Saen Saep Canal, one of the remaining canals (khlong) that used to flow through Bangkok. Mostly used by locals to commute to work, the service is cheap and you get to see the \"backside\" of the neighbourhoods, so to speak. Also, It is immune to Bangkok\\'s notorious traffic jams. The total distance is 18\\xa0km (11\\xa0mi), and the service operates from 05:30-20:30.  \\xa0\\n They are comparatively safe — just watch your step when boarding and disembarking as they don\\'t stop at the pier for long and do not let the dirty water get into your eyes. To prevent splashes, the boats are equipped with little curtains that you can raise by pulling on a string, but they have to be lowered at every stop so people can clamber on board. Pay the fare (14-22 baht) to the fearless helmet-wearing ticket collectors who clamber around on the outside of the boat, ducking at bridges, as it barrels down the canal. Press the green \\'bell\\' button if you want to get off at the next pier, else the boat might just skip it. The piers now even have (tiny) signs in English, with the exception of The Mall Bangkapi pier, and it\\'s not obvious that you\\'re at the mall from the canal boat!\\n The canal runs parallel to Phetchaburi Road, and provides the easiest access from the Golden Mount in Rattanakosin (and nearby Khao San Road) to Siam Square and Pratunam. This line is aptly called the Golden Mount Line and runs from Panfa Leelard pier to Pratunam pier. If you want to continue your journey beyond Pratunam, passengers have to change boats there. The NIDA Line starts at Pratunam and heads east to Sukhumvit and Ramkhamhaeng. Hold on to your ticket.\\n Finally, for trips outside set routes, you can hire a long-tail river taxi at any major pier. These are fairly expensive and will attempt to charge as much as 500 baht/hr, but with some haggling they may be suitable for small groups. To circumvent the mafia-like touts who attempt to get a large cut for every ride, agree for the price of the shortest possible ride (30 min), then negotiate directly with the captain when on board.\\n Metered taxis are a quick and comfortable way to get around town, at least if the traffic is flowing your way, but be warned that Bangkok taxi drivers are notorious for finding ways to run up the fare; insist that the meter is used, and if the driver claims that your destination is closed, if your destination is unknown, or if you\\'re being taken elsewhere, just get out of the taxi. All taxis are now metered and air-conditioned: the hailing fee is 35 baht and most trips within the city cost less than 100 baht. There are no surcharges (except from the airport), even at night; don\\'t believe drivers who try to tell you otherwise. A red sign on the front window, if lit, means that the taxi is available.\\n When the meter is switched on you will see a red \\'35\\' somewhere on the dashboard or between the driver and you. Be sure to check for this at the start of the ride, as many drivers will \"forget\" to start the meter in order to overcharge you at the end of your trip. Most will start the meter when asked politely to do so (meter na khrap if you\\'re male and meter na kha if you\\'re female); if the driver refuses to use the meter after a couple of attempts, simply exit the taxi.\\n In some cases, late at night and especially near major tourist districts like Khao San or Patpong, you will need to walk a block away to catch an honest driver. The effort can save you as much as 150 baht. This is often also the case for taxis that park all day in front of your hotel. There are only two reasons that they are there: to take you places where they can get their commissions (jewellery stores, tailors, massage parlours, etc.) and to overcharge you by not using the meter.\\n Your best bet is to walk to the road and catch an unoccupied metered taxi in motion (easier than it sounds, as Bangkok traffic tends to crawl the majority of the time, and one car out of four is a taxi), or go to a taxi stand where you see many locals queueing. Avoid taxis parked outside hotels or major tourist attractions, and if a taxi driver refuses to turn the meter on, simply close the door and find one who will. Keep in mind that it is illegal for them to have unmetered fares. Alternatively, you can also call a taxi using a ride sharing app like Grab, though you will be charged a booking fee for the service. Be smart and give your money to honest drivers, not cheats and touts. The only reason why they get away with this so frequently is that foreign tourists let them.\\n Be sure to either know the correct pronunciation of your destination, or have it written in Thai, as taxi drivers in Bangkok are notoriously bad at reading maps, and most drivers speak limited English. Most hotels and guest houses will happily write out addresses in Thai for you. While most drivers will recognise the names of tourist hot spots, even if grossly mispronounced, but it is often difficult to properly pronounce addresses in Thai. If your mobile phone works in Thailand, it is sometimes useful to call your hotel and ask the staff to speak to your driver in Thai. In addition, try to get your hotel\\'s business card to show the taxi driver in case you get lost.\\n If you are pinching pennies or fussy about your means of transportation, you may wish to avoid getting into one of the (very common) yellow-green taxis. They are owner-operated and of highly variable quality and occasionally have rigged meters. All other colours belong to large taxi companies, which usually enforce their standards better.\\n On some routes, the driver will ask if the tollway should be used — this will usually save a lot of time. You have to pay the cost at the toll booth (not in advance and not at the end of the journey). Watch how much the driver really pays, as many try to keep the change.\\n When getting out, try to have small bills (100 baht or less) or expect problems with change. Tips are not necessary, but are certainly welcome if you\\'re happy about the service; most local passengers will round up or leave any coin change as tip.\\n Finally, what would Bangkok be without the much-loathed, much-loved tuk-tuks? You\\'ll know them when you hear them, and you\\'ll hate them when you smell them — these three-wheeled contraptions blaze around Bangkok leaving a black cloud of smog in their wake. For anything more than a 5-10 min jaunt or just the experience, they really are not worth the price — and, if you let them get away with it, the price will usually be 4 or 5 times what it should be anyway (which, for Thais, is around 30% less than the equivalent metered taxi fare).\\n On the other hand, you can sometimes ride for free if you agree to visit touristy clothing or jewellery shops (which give the tuk-tuk driver fuel coupons and commissions for bringing customers). The shops\\' salespeople are pushy, and try to scam you with bad quality suits or \"gems\" that in fact are worthless pieces of cut glass. But usually you are free to leave after 5-10 min of browsing. Visitors should beware though, sometimes one stop can turn in to three, and tuk-tuk drivers may not be interested in taking you where you need to go once they have their fuel coupons. Also, with Bangkok\\'s densely congested traffic it is sure to waste hours of your time, if not the whole day.\\n If you still want to try the tuk-tuk, always hail a moving tuk-tuk from the main road. At tourist spots, these tuk-tuk drivers lie in waiting to disrupt your travels plans. Always agree on a price before entering the tuk-tuk. Also be crystal clear about your intended destination. If they claim that your intended destination is closed for the day, and offer to take you to other nearby tourist spots, insist on your destination or get out. If you\\'re an all-male party, tuk-tuk drivers sometimes will just ignore your destination completely and start driving you to some brothel (\"beautiful girls\"). Insist continually and forcefully on going only to your destination; or take a metered taxi instead.\\n A songthaew is a less-heralded, less-colourful and less-touristy version of the tuk-tuk that usually serves the back sois in residential neighbourhoods. They usually have four wheels instead of three, two benches instead of one, run on petrol instead of LPG and resemble a tiny truck. The maids and locals tend to use them to return home from the market with loads of groceries, or for quick trips if they\\'re available. The price is not negotiable. Most songthaews cost 5 baht, although a few that go a very long distance charge 7 baht. Be careful though, as the destinations are written in Thai, not English. You pay the fare either before departure or after you get off. If the latter, simply walk up to the passenger side of the truck and pay the driver who will stick his/her hand out to receive your money. Change will be given, but try to have the 5 baht coin ready.\\n When traffic slows to a crawl and there are no mass-transit alternatives for your destination, by far the fastest mode of transport is a motorbike taxi (มอเตอร์ไซค์รับจ้าง motosai lapjang). They typically wear colourful fluorescent yellow-orange vests and wait for passengers at busy places. Prices should be agreed in advance.\\n For the adrenaline junkie, a wild motosai ride can provide a fantastic rush. Imagine weaving through rows of stopped vehicles at 50\\xa0km/h (30\\xa0mi/h) with mere centimetres to spare on each side, dodging pedestrians, other motorbikes, tuk-tuks, stray dogs and the occasional elephant while the driver blithely ignores all traffic laws and even some laws of physics. Now do the same while facing backwards on the bike and balancing a large television on your lap, and then you can qualify as a local — though you might die in the process. Imagine your loved ones arranging to ship your dead body home from Bangkok because you took a dangerous risk you were warned not to. Motorcycle accidents are brutally common, and transportation of this sort is inherently hazardous. Be aware of the risk before using motorcycle taxis.\\n The overwhelming majority of motorcycle taxis do not travel long distances, but simply shuttle up and down long sois (side-streets) not serviced by other transport for a fixed 5-20 baht fare. These are marginally less dangerous, especially if travel with the flow on a one-way street.\\n The law requires that both driver and passenger must wear a helmet. It is the driver\\'s responsibility to provide you with one, so if you are stopped by police, any fine is also the driver\\'s responsibility. However the provision of helmets is far from universal. A helmet should be provided when hiring a motorbike or moped, and two if there are two of you. When riding, keep a firm grasp on the seat handle and watch out for your knees.\\n Local buses, operated by the Bangkok Mass Transit Authority (องค์การขนส่งมวลชนกรุงเทพ).  \\xa0 aka BMTA (ขสมก), are the cheapest but also the most challenging way of getting around. There is a bewildering plethora of routes, usually marked only in Thai. Even locals have a hard time with these, but at least they can call the 184 Bus Route Hotline, which is in Thai only. Bus stops list only the bus numbers that stop there and nothing more. They are also subject to Bangkok\\'s notorious traffic, often terribly crowded, and many are not air-conditioned. If you want to get somewhere quickly and are not prepared to get lost, the buses should be avoided: remember that taxis are cheaper than most local buses in the West. However, they make for a good adventure if you\\'re not in a rush and you don\\'t mind being the centre of attention.\\n There is the Viabus app (for Android and IOS) which really helps finding your way around the bus system. In the app you can search for bus stops and bus routes, navigate and even GPS track busses. Also the app is available in English and you can select stops on a map.\\n Otherwise, for those staying in Khao San Road where buses are the only practical means of public transport, the only free resource for decrypting bus routes is the official BMTA website. It has up-to-date if slightly incomplete listings of bus routes in English, but no maps. You can also ask your guest house about which buses to take if you\\'re going to a particular destination. As a printed reference, the 69 baht spent on the Bangkok Bus Map by Roadway is a good investment if you\\'re going to travel by bus more than once.\\n The hierarchy of Bangkok\\'s buses from cheapest to best can be ranked as follows:\\n Buses stop only when needed, so wave them down (arm out, palm down) when you see one barreling your way. Although drivers are only meant to stop at bus stops, some may pick up and drop off passengers elsewhere. Once on board, pay the roaming collector after you board and keep the ticket, as there can be occasional spot-checks. Press the signal buzzer, usually near the door, when you want to get off.\\n Two further pitfalls are that buses of the same number may run slightly different routes depending on the colour, and there are also express services (mostly indicated by yellow signs) that skip some stops and may take the expressway (2 baht extra).\\n Airport buses allow luggage but regular buses do not. Enforcement of this rule varies.\\n The main ride sharing company operating in Bangkok is Malaysian company Grab. Unlike Uber in Western countries, Grab also allows you to book taxis, and gives you the option of paying your driver in cash.\\n Bangkok is notorious for its massive traffic jams, and rightly so. In addition, traffic is chaotic and motorcyclists seemingly suicidal. Therefore, most tourists consider driving in Bangkok a nightmare, and it is recommended that you stick to public transport. However, the proliferation of massive shopping malls means that there are now places to park if you must drive into town, albeit at a high cost. Smartphones with GPS and navigation apps with voice directions make it easier to find your way.\\n Many of Bangkok\\'s main attractions are within 5\\xa0km (3.1\\xa0mi) from Siam Square. Walking long distances in hot weather along busy streets can be exhausting, but is a good way to get to see the city up close. Just drink plenty of water and watch out for uneven surfaces and motorcyclists. Food leftovers and the occasional surprises left by stray animals are other reasons to look where you\\'re going. Bangkok residents almost instinctively avoid stepping on manhole covers because people have fallen into sewers through rotten ones. Women carry their handbags on the side away from the road to discourage bag snatchers on motorbikes.\\n Be careful when crossing the road, even if you have a green light. Turning left at a red light is legal by default and drivers turn without indicators and without yielding to pedestrians. Drivers will not stop or slow down at crosswalks without traffic lights. When waiting to cross at major intersections with rounded corners, stand well away from the road, as turning motorcyclists may lean over the curb in order to squeeze past other vehicles. Always use pedestrian overpasses when available; Bangkok stray dogs are smart enough to use them.\\n Expect to be accosted by taxi and tuk-tuk drivers and hustlers demanding to know where you\\'re going, insisting that there is nothing to see ahead, and attempting to usher you to various businesses. Most will quickly move on to their next mark if ignored or firmly dismissed.\\n If you are weighed down by a large backpack and would like to leave it in a locker, do check out the automated lockers provided near several major metro stations. The charges vary based on size of the locker. A medium sized locker can take two backpacks and will cost about 30 Baht an hour.\\n Peoplespotting\\n More than any other place in Thailand, Bangkok offers wonderful opportunities for just sitting and watching people go by. Here\\'s a partial checklist:\\n Most of Bangkok\\'s sights are concentrated on the island of Rattanakosin, often referred to as the \"Old City\". Out of Bangkok\\'s hundreds of temples, the Grand Palace, Wat Pho and Wat Arun usually make up the top 3. The Grand Palace has an immense size, so expect to spend at least a full morning or afternoon there. Within the palace grounds is Wat Phra Kaew, the most sacred Buddhist temple of Thailand. Unlike other temples, it is not one building, nor are there living spaces for monks. Instead, it is a collection of highly decorated holy buildings and monuments. One of its buildings houses the Emerald Buddha, and while you might not expect it from its size, it is the most sacred Buddha image in Thailand.\\n Nearby is Wat Pho, home to the world\\'s largest reclining Buddha image and a famed massage school. Take the ferry across the Chao Phraya River to Thonburi for the outstanding Wat Arun. The main structure is about 60 to 88 m high and it is surrounded by four smaller prangs. It is one of Thailand\\'s most picturesque temples, and is engraved on the inner part of all ten baht coins. It is so recognisable that it even became the logo of the Tourism Authority of Thailand (TAT). If you climb it, and look closely, you will see that it is beautifully decorated with colourful broken Chinese porcelain pieces. Heading back to Rattanakosin, there are many other major temples you could visit, including the Golden Mount, Wat Suthat and Wat Ratchanaddaram.\\n Don\\'t throw away the entry ticket of the Grand Palace, as it gives free entry to the Bang Pa-In Palace in Bang Pa-In (and not anymore to the Dusit Palace which is close to public since 2017). It is situated in a leafy, European-style area built by King Rama V to escape the heat of the Grand Palace. Its main structure is the Vimanmek Mansion, touted as the largest golden teakwood house in the world, but you could spend your whole day in the museums if you wish. There are many museums in Bangkok showing traditional Thai-style residences. Many visitors take a tour through Jim Thompson\\'s House, the CIA-operative\\'s mansion assembled by combining six traditional Thai-style houses near Siam Square. Ban Kamthieng in Sukhumvit, M.R. Kukrit\\'s Heritage Home in Silom and the Suan Pakkad Palace in Phahonyothin are not quite as impressive, but still make for a nice experience. Rattanakosin\\'s museums are mostly dedicated to history and culture, including the National Museum (about Thai history and archaeological remains), the Museum of Siam,  Rattanakosin Museum (which offers two guided tours with interactive displays regarding the history of old and modern Thai life), and the King Prajadhipok Museum. Bangkok has a small, but vocal art community, and you might want to visit the National Gallery or The Queen\\'s Gallery, or one of the numerous smaller galleries spread over the city. Siam Square features the Bangkok Art and Culture Centre which has temporary art exhibitions throughout the year.\\n Lumphini Park in Silom is the largest park in central Bangkok, and a good way to escape the fumes. Backpackers around Khao San Road can head for Santichaiprakarn Park, a small but fun park along the Chao Phraya River with a breezy atmosphere, usually with locals juggling or practicing tricks. It is built around the 18th-century Phra Sumen Fort with a nice view on the modern Rama VIII cable-stayed bridge. Zoos and animal farms are some of the more popular tourist attractions in Bangkok, but before visiting, please be aware that animal welfare in Thailand is not strictly regulated. Poor living conditions of the animals and inadequate veterinary care are examples of the sad mistreatment of the animal population. You can\\'t go wrong at the Queen Saovabha Institute Snake Farm in Silom, as the staff takes good care of their snakes and they have a job of informing the public about the risks associated with them. Another nice family attraction is Siam Ocean World in Siam Square. It has a steep price tag, but at least you get to see the largest aquarium in Southeast Asia.\\n Although Thailand was never colonised, due to the desire of Kings Rama IV (1804-1868) and Rama V (1868-1910) to modernise Thailand based on Western models, visitors might be surprised to find that Bangkok has no shortage of European-style buildings that would not be out of place in other Southeast Asian capitals. While other Southeast Asian capitals tend to be dominated by buildings of a specific architectural style depending on their colonial history (e.g., French in Hanoi, British in Yangon), Bangkok has a mix of buildings with architectural styles from different parts of Europe. For instance, Hua Lamphong Railway Station, Bangkok\\'s main railway station, was designed by Italian architects and hence built in an Italian neo-Renaissance style. Other notable European-style buildings include the Italian Old Customs House, the Danish East Asiatic Company headquarters, and the Art Deco-style General Post Office. One of the most interesting European-influenced buildings is the Chakri Maha Prasat Hall in the Grand Palace, which was built mostly in an Italian neoclassical style, but with a traditional Thai roof. The greatest concentration of European buildings can be found in Rattanakosin and Yaowarat.\\n All of Thailand\\'s major festivals are celebrated in Bangkok. New Year is celebrated three times. There\\'s the new year following the Gregorian calendar at January 1, celebrated with a huge fireworks display at Ratchaprasong intersection. Then there\\'s Chinese New Year in January or February, with grandiose and colourful Chinese lion and dragon processions in Yaowarat. Finally, the water festivities of Songkran celebrate the traditional Thai New Year in the middle of April. Khao San Road degenerates into a war zone as farangs and locals duke it out with super soakers. More respectable celebrations are held at Sanam Luang, where the revered Phra Phuttha Sihing image is displayed and bathed by devotees, and at the Wisut Kasat intersection, where a Miss Songkran beauty contest is held and accompanied by merit-making and entertainment.\\n During the Royal Ploughing Ceremony in May, farmers believe that an ancient Brahman ritual, conducted at Sanam Luang, is able to forecast whether the coming growing season will be bountiful or not. The event dates back to the Sukhothai Kingdom and was re-introduced in 1960 by King Bhumibol Adulyadej. It is considered the official commencement of the rice-growing season (and the rainy season). Nowadays, the ceremony is conducted by King Maha Vajiralongkorn. Loi Krathong (ลอยกระทง), the Festival of Lights, usually takes place in November. Krathongs are floating rafts made from lotus flowers and banana leaves with a lighted candle and incense on top. On the night of the full moon, Thais send their krathong down a river, canal or pond, and the owner\\'s bad luck carries away along with it insuring a fresh start. Celebrations take place all over town with parades, concerts and beauty pageants. Loi Krathong coincides with the Lanna festival Yi Peng (ยี่เป็ง). At this festival, a multitude of Lanna-style paper lanterns are launched into the air. Lumphini Park is the best place to launch a krathong down the pond or to launch a paper lantern into the sky.\\n The Trooping of the Colours in early December is an impressive annual event, held in the Royal Plaza near the equestrian statue of King Rama V in Dusit. Dressed in colourful uniforms, amid much pomp and ceremony, members of the elite Royal Guards swear allegiance to the King and march past members of the Royal Family. December 5 is Father\\'s Day, the former King\\'s birthday, and Ratchadamri Road and the Grand Palace are elaborately decorated and illuminated.\\n Until the late 19th century, Bangkok (just like Ayutthaya) was known as \"Venice of the East\". Most people lived near or on the water and an intricate network of canals (khlong) was the primary mode of transport for the city\\'s inhabitants. Most canals have since been paved over, but plenty of them remain and some still function as transport routes as of this day. The traditional canal-side way of life has almost vanished, but as Thonburi was largely undeveloped until the 20th century, there is still some authenticity to be found. Floating markets had completely disappeared by the 20th century, but have been reinstated for tourism purposes and are a fun visit.\\n You can see the Chao Phraya River and the backwaters of the city by canal tour. Most of these boat trips start at the eastern bank of the Chao Phraya and then ply through the backwaters of Thonburi taking in Wat Arun, the Royal Barges National Museum, a floating market and some other minor attractions. More information about these canal tours can be found in the Thonburi article. At 1,000 baht or more, they are quite expensive. You can also negotiate a price with individual boat drivers. Damnoen Saduak is a floating market that often appears in tourist brochures of Bangkok, but in practice it is 109\\xa0km (68\\xa0mi) west of Bangkok and has to be visited by bus from the Southern Bus Terminal.\\n Probably just as fun is to take the public express boat along the Chao Phraya River. You can get off anywhere between the Thewet and Sathorn (Taksin) piers as there are many things to see in all of these neighbourhoods. You can even take the express boat all the way north to Nonthaburi in the morning, enjoy the afternoon in this laid-back traditional urban town, and take the boat back around rush hour. Another option is to get on one of the free hotel shuttle boats at Sathorn (Taksin) pier and have a bite at one of the associated cafés. In the evenings, Asiatique has a free shuttle boat from Sathorn (Taksin) pier to the new shopping centre downriver. A good place to see beautiful sunsets over the river.\\n Spas, traditionally, were towns where public baths, hospitals or hotels were built on top of mineral springs so that people could come and make use of the healing properties found in the water and its mud for medical purposes. These days, a spa doesn\\'t have to be a town built on natural thermal springs. It can be a place anywhere that anyone can go to, to relax in tranquil surroundings with a variety of treatment administered to recontour and rejuvenate the body and mind.\\n Spas were unheard of until the 1990s, but now Bangkok is one of the highest ranking spa destinations in the world with an amazing array of treatments. All self-respecting luxury hotels in Bangkok have a spa that at least offers a traditional Thai massage. Prices are exorbitant, but they offer some of the best treatments in the city. Well-regarded spas at exceptionally high rates are given at the splurge hotels in Silom; particularly the spa at the Dusit Thani Hotel stands out. Independent spas offer much the same experience, but offer much more competitive rates. Figure around 1,000 baht/hr for most treatments.\\n The ubiquitous little massage shops found on every street corner in town offer the best value for money, but the smallest range of services, with offerings usually limited to massage only. Particularly Khao San Road and Sukhumvit have plenty of these popular places. It is fairly easy to distinguish legitimate massage shops from more dubious places (where massaging is only a front for prostitution); the real deal will charge 250-400 baht for a typical 2-hr massage and will often have a row of beefy farmers\\' daughters in white coats working on customers\\' feet in public view, while the other kind has wispy girls in evening dresses wearing too much make-up and saying \"hello handsome\" to every passing male.\\n Muay Thai is both a combat sport and a means of self-defence. Contestants are allowed to use almost any part of the body for fighting: feet, elbows, legs, knees and shoulders. There are two venues in Bangkok to see this sport in action: Lumpinee Boxing Stadium in Silom and Ratchadamnoen Stadium in Rattanakosin. Sessions can take the whole evening and it\\'s not that bad if you come in slightly late as the more interesting fights tend to happen at the end. The playing of traditional music during the bouts is enjoyable as well. A downer is the steep 1,000-2,000 baht entry fee for foreigners. Thais chip in for 100 baht or less.\\n If you want to see Muay Thai for free, go to the MBK Fight Night outside MBK Center near Siam Square. Fights take place every Wednesday evening (starts at 18:00, lasts until around 21:00). Another option is to walk to the end of Soi Rambuttri into an alley known as Trok Kasap (near Khao San Road). Foreigners are getting classes in Muay Thai out in the open there, and many tourists generally sit on a bench in front of it to look at the action. Besides looking, this is an excellent place to do some Muay Thai yourself.\\n Bicycles can be rented for free in Rattanakosin, but cyclists are officially not allowed to leave the set route along the island. Even when following the route, it\\'s still not for the faint of heart.\\n If renting your own bicycle, avoid the main roads and cycle through the vast system of small streets and alleys. You can cycle through the backstreets of Yaowarat, but you might want to think twice before making a turn. You can also experience life in Bangkok\\'s countryside by cycling through green paddy fields, orchid farms and lotus fields. Bang Kachao, in brochures often referred to as the \"Bangkok Jungle\", is Bangkok\\'s last green frontier. It\\'s a semi-island across the river from Bangkok with few cars and buildings, and a great destination for cycling.\\n Cyclists are treated as pedestrians, so you can use your bicycle to explore parks, temple complexes, markets and the more quiet residential areas in eastern Bangkok. In more crowded places you can cycle on the pavement. Exploring by bicycle has all the advantages of going by foot, combined with a much greater travel radius and a cooling breeze. Cycling is the best way to discover the city up close, but as there are safety issues involved, you need some insider knowledge on where to cycle. Because of this, many opt for a bicycle tour organised by an operator.\\n There are many theatre performances in Bangkok that depict traditional Thai culture and dance. Siam Niramit in Ratchadaphisek is a spectacular performance as more than 150 performers depict the historical and spiritual heritage of each region of Thailand. The first act depicts Siam as a crossroads of civilisations throughout history, the second act is about the role of karma in Thai culture, and the third act focuses on religion and the role of merit-making in Thai society.\\n The Aksra Theatre in the King Power Complex Building in Pratunam holds spectacular shows that are a combination of Thai traditional puppet shows, orchestral performances and classical dances. The Joe Louis Theatre in the Asiatique is completely dedicated to the art of operating Hun Lakhon Lek puppets. One segment has the puppets interact with audience members, which is a fun activity with children. Both Aksra and Joe Louis feature stories taken from the Ramayana epic.\\n Of a completely different nature are Bangkok\\'s famous transvestite shows. These cabarets generally take about 2 hr, and besides singing, dancing, glamour and costumes, there\\'s also has some comedy thrown in. The most famous of these is the Calypso Cabaret at Ratchathewi intersection with two sessions every evening at the Asia Hotel. An alternative is Mambo Cabaret, once in Sukhumvit but now at a new location far off the tourist path in Yan Nawa. Three shows are given each evening. Always book these shows a couple of days in advance as they are almost guaranteed to be sold out if you just show up.\\n Bangkok is a great place to go to the cinema. Compared to Western countries, the cost of a ticket is a complete bargain at around 120 baht. Most cinemas have world-class standards and show the latest Hollywood and Thai releases. They are up to par with the latest technological innovations in the film industry, so expect to wear 3D glasses for some of the latest Hollywood releases. You can also visit the IMAX Theatre in Siam Paragon. Thai films can be seen by foreigners as they are usually shown with English subtitles. For non-mainstream cinema, House RCA (in Royal City Avenue) and APEX (in Siam Square) offer art films with English subtitles.\\n For other means of entertainment, Ratchadaphisek is a newly created entertainment paradise. Its bowling centres are of a superb standard with some of them resembling the interior of a nightclub. Dance while you play in style. Private karaoke lounges are usually connected to these bowling centres and are available at major hotels. There\\'s even an ice skating rink and a top-class go-kart track in this district. As Ratchadaphisek is mostly aimed at locals, you might want to go to similar venues in Siam Square or Sukhumvit. Horse races are held on Sundays at two alternate turf clubs: the Royal Turf Club of Thailand in Dusit and the Royal Bangkok Sports Club on Henri Dunant Road near Siam Square.\\n Bangkok is a good place for aerobics dancing. Many places in Bangkok, for example, supermarkets or public parks, offer outdoor aerobics class without any cost. These classes usually start in the morning at 06:00 or in the evening at 18:00, and the session would last long for one hour. The instructor doesn’t provide any equipment or supply, so participants should bring appropriate clothes or equipment themselves. The venue usually consisted of only empty ground and a stage for instructors. These classes don’t require Thai language skill because instructor rarely uses any verbal cues. Aside from exercising you would also meet the community of local people and foreigner. Aerobics classes usually accumulate 50-100 people.\\n For supermarkets, you can expect to find classes in Tesco Lotus or Big C. They only have classes in the evening, and are usually held in or nearby the parking areas.\\n For public parks, there are many places but the most famous one is in the Lumphini park in Silom district. They have classes in the morning and in the evening at the ceremonial gate.\\n Thai cuisine is a favourite of many, and plenty of cooking schools provide half-day classes that provide a nice break from the day-to-day sightseeing monotony. Silom and Khao San Road particularly have some of the better-known Thai cooking schools.\\n Meditation, the essence of \\'pure\\' Buddhism, can be practised at any temple in Thailand. In addition, there are centres in Bangkok that cater specifically to foreigners wishing to learn and practise. The International Buddhist Meditation Centre inside Wat Mahathat in Rattanakosin provides free meditation classes three times a day. If you can understand Thai well enough, you may wish to go on your own retreat at a quiet temple on the outskirts of Bangkok. To pay for your stay, it is appreciated that you assist the resident monks on their morning alms rounds.\\n The Wat Pho temple in Rattanakosin offers well-regarded Thai massage courses. They are used to conducting classes in English.\\n Tailoring tips\\n Bangkok is particularly well-known for its plethora of tailoring shops; here you can get a custom-made suit for amazingly low prices compared to the West. Choosing a tailor is tricky though. Tailors in the middle of tourist areas, such as Khao San Road or Nana Plaza, generally provide poor quality and often quote silly prices. Avoid any tailor recommended by touts or tuk-tuk drivers as they cannot be trusted and you\\'ll have to pay their commission; also avoid super-cheap packages or anything done in 24 hr, as the quality will suffer accordingly. The most important rule for getting a good tailor: do research. Don\\'t just walk in the first tailor shop you see, but ask fellow travellers and look online for (user) reviews. In general, the best tailors are slightly off the tourist track in Silom and Sukhumvit.\\n It will help considerably if you know fabrics and what style you want (bring along a sample or at least a picture), and can spare the time for at least three sessions for a suit (measurement, fitting and final adjustment). Prices obviously depend on the tailor\\'s skill and the materials used, but expect to pay at least 7,000 baht for a two-piece suit. When picking the materials, you\\'re best off with Italian or English cloth as local fabrics are often of poor quality (with the exception of silk). Insist on two fittings for suits. Give the tailor a lot of detail and give yourself time, so you\\'ll get the exact suit you\\'re looking for.\\n Dump a teenager in Siam Square with a few thousand baht and she\\'ll stay occupied for the rest of the week! Siam Square is the place to shop in Bangkok; the small sois of Siam Square have dozens of small designer boutiques. MBK Center and Siam Center are the most popular shopping malls, as they sell fashion well below Western rates. Siam Paragon, EmQuartier in Sukhumvit, and the shopping plazas at Ratchaprasong feel even larger, but are much quieter, as most local Thais cannot afford the Guccis and Louis Vuittons on sale there. Ladies will also feel well at home in the Emporium next to EmQuartier.\\n Just take a few steps out of your hotel and Bangkok feels like a huge street market. Sukhumvit has the usual souvenirs, T-shirts and other tacky tourist junk. Browsing Khao San Road\\'s roadside stalls is particularly good for clothing and accessories, many of them for a bargain. While many of these stalls still cater to the traditional hippie crowd, they have been slowly gentrifying to appeal to a broader audience. The nearby Banglamphu Market sells cheap knock-offs of everything, just like the night markets in Silom and Rattanakosin.\\n In the weekends, the Chatuchak Weekend Market in Phahonyothin is a must as its 8,000 stalls together form the largest market in Southeast Asia. Shoppers can buy just about everything from clothing to potted plants and everything in between — it is a paradise for browsers and bargain-hunters alike. A weekday alternative is Pratunam, one of the city\\'s renowned garment markets. Clothes shopping here goes on wholesale, and you\\'re even cheaper off if you buy in bulk. At Pantip Plaza you can buy computer-related stuff from branded laptops to pirated DVDs.\\n Yaowarat and Phahurat give a more authentic experience, although many stores sell the cheap teen accessories found elsewhere as well. Just sitting at a plastic chair and watching daily commerce evolve is a fun activity in itself. Phahurat is the best destination for fabrics, available in all colours and sizes. Pak Khlong Talat is a surprisingly fun wholesale market for cut flowers and vegetables. If you\\'re a morning person, visit it around 03:00, when new flowers from upcountry arrive and the marketplace is beautifully illuminated.\\n Thonburi, being one of the least developed areas of Bangkok, is the best place to experience what the city used to be like. A must is the weekends-only Taling Chan Floating Market, which feels at least somewhat authentic as it blends a rural market with the canal side way of life. Wang Lang Market is an undiscovered gem with strictly local prices. The other side of the river, Rattanakosin, has everything a good Buddhist would need, be it amulets, monk bowls or human-sized Buddha statues.\\n For antiques, Silom is the place to go, as most potential buyers stay there in expensive hotels. River City in Yaowarat is the largest antique mall of the city, and priced to match. Gold and gems are popular buys, but be careful: know what you\\'re looking for such as quality of workmanship and gold/stones and what something like it costs back home. If possible by prior research, not street vendor recommendation, go to respected jewellers, and polish your bargaining skills. Many tourists buy worthless pieces of cut glass believing it to be valuable gems. Others get jewellery or gems at unjustified costs. Never let tuk-tuk drivers take you to a gem/jewelry store; more often than not, you\\'ll be ripped off and they\\'re getting a commission for taking you there. The same advice applies to tailoring shops; you can get a custom-made suit at low prices, but you have to know where to go, as many tailors provide bad quality — see the sidebar for advice on finding a good tailor.\\n Browsing second hand English-language books can best be done on Khao San Road. For new releases, there are plenty of chain stores in shopping plazas, including Asia Books, B2S, Bookazine and Kinokuniya. There\\'s a particularly wide array of books on Asian culture and history; some have a good selection of foreign newspapers and magazines as well.\\n Getting cash in Bangkok is relatively easy. Credit cards are widely accepted at larger establishments and ATMs are spread all over the city, especially in central areas. All banks ATMs charge a 180 baht commission for using foreign cards at ATMs. Super Rich money exchanges offer decent rates of exchange.\\n Bangkok boasts a stunning 50,000 places to eat; not only thousands of Thai restaurants, but a wide selection of world-class international cuisine too. Prices are generally high by Thai standards, but cheap by international standards. A good meal is unlikely to cost more than 300 baht, although there are a few restaurants (primarily in hotels) where you can easily spend 10 times this.\\nSukhumvit by far has the best restaurants of Bangkok, though prices tend to be high. Practically every cuisine in the world is represented here, be it French, Lebanese, Mexican, Vietnamese, or fusion combining many of these together in a quirky, but delicious mix. Bangkok\\'s Italian town is Soi Ton Son near Siam Square. Of course, for those on a budget, street stalls abound with simple Thai dishes at around 30 baht. There are especially plenty of budget restaurants in Khao San Road.\\n There are plenty of vegetarian restaurants in the more tourist-friendly parts of town (especially in hippie district Khao San Road). Vegetarian dishes are also readily available on the menus of regular restaurants. On request, even typical street restaurants will easily cook a vegetarian equivalent of a popular Thai dish for you. Ask for \"jay\" food to leave the meat out of the dish. For example, \"khao pad\" is fried rice and \"khao pad jay\" is vegetarian fried rice. For vegans, the most common animal product used would be oyster sauce. To avoid it, say \"mai ao naam man hoi\". Be aware that all street noodle vendors use meat broth for noodle soup.\\n For Muslims, the alleys around Haroon Mosque in the Bang Rak area are home to many Muslim families, and hence full of stalls selling halal food.\\n Don\\'t miss out on a cold ice cream in hot Bangkok. Western chain stores Dairy Queen and Swensen\\'s have booths in many malls and shopping centres. Or better yet, try an exotic fruit-flavoured ice cream at an Iberry shop. Their ice creams are tasty, cheap and safe to eat. Korean-style shaved ice has become very popular, and local chain After You has many branches in Bangkok, and is a very popular hangout spot among Thai youths and young adults.\\n While generally not particularly high class, street food is among the most delicious food and there even is a venue that earned a Michelin star in their 2018 guide. The venues can be found all over Bangkok—wherever you\\'re staying, you rarely have to walk more than 100 m for a cart or street restaurant. Many street vendors sell satay (สะเต๊ะ) with hot sauce for 5-10 baht a piece.\\n One of Thailand\\'s national dishes you can try is pad thai (ผัดไทย), stir-fried rice noodles with eggs, fish sauce, tamarind juice and red chili pepper. It can be prepared for you on one of the ubiquitous carts or served in a street restaurant for about 50 baht. You can order it with chicken (kai) or shrimps (kung). Another one of Thailand\\'s national dishes you should try is tom yam kung (ต้มยำกุ้ง), a sour soup with prawns, lemongrass and galangal—beware, as it is very spicy! Khao man kai (ข้าวมันไก่) is another popular street food. You can identify it at stalls displaying boiled chicken. Served with a bowl of fragrant chicken soup is a mound of rice topped with sliced chicken pieces and cucumber. Side sauces are spicy and go well with the bland chicken and rice. You can sometimes add optional liver and gizzard if that is your taste. If you like sweets, try to find a kanom roti (โรตี) street vendor. The crepe-like dessert is filled with sweetened condensed milk, lots of sugar and can also have bananas inside. Also fun to watch them being made.\\n Khao San Road is known for its carts selling bugs—yes, insects. They are deep fried, nutritious and quite tasty with the soy sauce that is sprayed on them. Types available: scorpions, water beetles, grasshoppers, crickets, bamboo larvae, mealworms and some seasonal specialties. Break off the legs from grasshoppers and crickets or they will get stuck in your throat.\\n Around the corner from Khao San Road in front of the department store and supermarkets the street is lined with a myriad stalls selling all manner of tempting delicacies: sweets and crackers, coconut jellies, candied fruits, fish balls on skewers, tamarind sweets dipped in chili and sugar and a host of other delights.\\n Thai dishes can roughly be categorised into central, northern, northeastern and southern cuisine. What\\'s so great about Bangkok is that all these cuisines are present. Isaan food (from the northeast of Thailand) is popular; generally street restaurants serve on plenty of small plates that can be shared. Som tam (ส้มตำ) is a salad made from shredded and pounded raw papaya — again, it is spicy, but oh so delicious. If you want to dine the Isaan way, also order some khao niew (sticky rice), kai yang (grilled chicken) and moo yang (grilled pork). Isaan food is very spicy; say mai pet or pet nit noy to tone it down. Southern Thai cuisine is also worth it; many of them have congregated around Wang Lang in Thonburi. At least try the massaman curry (แกงมัสมั่น), it\\'s delicious.\\n One of the best places to go to for Chinese food is Yaowarat. It has a range of street stalls and cheap restaurants selling expensive delicacies at affordable prices. Soi Phadung Dao is the best street for huge seafood restaurants. Try 1\\xa0kg of huge barbecued prawns for about 300 baht. That being said, due to the large Thai-Chinese population in Bangkok, Chinese influences pervade much of Bangkok’s culinary scene, and there is also a lot of good Chinese food to be found outside Chinatown, as well as a strong Chinese influence in many of Bangkok\\'s signature street dishes.\\n Phahurat, Bangkok\\'s Little India, has some decent Indian restaurants.\\n Bangkok is arguably the best city in Southeast Asia for fine dining, and there is no shortage of options for those who can afford to splurge the cash. Fine dining options in Bangkok include French, Italian, Chinese, Indian, Japanese and, of course, Thai. Although exorbitant by Thai standards, fine dining in Bangkok is very affordable compared to similar options in Western countries, Japan or Hong Kong, and even the most expensive fine dining should not cost you more than 5000 baht per head.\\n Dinner cruises on the Chao Phraya River are a touristy (but fun) way of spotting floodlit temples while chowing down on seafood and watching Thai cultural performances. Most operate buffet-style and the quality of the food is so-so, but there\\'s lots of it and it\\'s not too spicy. While the river can give a romantic experience, it can also be dirty and smelly with lots of plants floating around.\\n Drinks and tips are usually not included in the listed prices below. Always make a reservation before heading out to the pier. There are many competing operators, most of them depart from the River City pier next to the Si Phraya Express Boat pier. Major operators include:\\n Bangkok\\'s nightlife is infamously wild, but it\\'s not quite what it used to be. Due to social order campaigns, there have been quite a few crack-downs on opening hours, nudity, and drug use. Most restaurants, bars and clubs are now forced to close at 01:00, although quite a few are allowed to stay open till 02:00 or later. Informal roadside bars do stay open all night, particularly in Sukhumvit and Khao San Road. You must carry your passport for ID checks and police occasionally raid bars and discos, subjecting all customers to drug tests and searches, though these mostly occur at places that cater for high-society Thais.\\n One of Bangkok\\'s main party districts is Silom, home not only to perhaps the world\\'s most famous go-go bar strip, Patpong, but plenty of more legitimate establishments catering to all tastes. For a drink with a view, the open-air rooftop bars of Vertigo and Sirocco are particularly impressive. A large number of superhip and more expensive bars and nightclubs can be found in the higher sois of Sukhumvit, including Q Bar, and Narz, as well as the hip area of Thong Lo (Soi 55).\\n Hippie hangout Khao San Road is also slowly gentrifying and a score of young artsy Thai teenagers have also made their mark there. Going out in Khao San Road is mostly casual, sitting at a roadside bar watching people pass by, but the Gazebo Club is a nightclub that stays open till the sun gets up. Most of the younger Thais prefer to congregate around Ratchadaphisek, home to the Royal City Avenue strip of nightclubs where you can find popular nightclubs like 808, Route 66, Cosmic Cafe, and more.\\n RCA, the Royal City Avenue strip, is home to much more than nightclubs. You will be able to find fun karaoke clubs, go-carting, arcades and bars like the Overtone Music Cave which is a place where music students to perform. The Overtone Music Cave is frequently visited by recording artists as well as music students and is becoming a real Bangkok music hot spot.\\n Smoking is forbidden in all restaurants, bars and nightclubs, whether air-conditioned or non-air-conditioned. It is enforced at some venues, but the ordinance is flouted in areas such as Nana Plaza.\\n Behaving while misbehavin\\'\\n Some simple rules of etiquette to follow in a go-go bar:\\n The go-go bar is an institution of Bangkok\\'s \"naughty nightlife\". In a typical go-go, several dozen dancers in bikinis (or less) crowd the stage, shuffling back and forth to loud music and trying to catch the eye of punters in the audience. Some also put on shows where girls perform on stage, but these are generally tamer than you\\'d expect. Nudity, for example, is actually illegal. These are no Western- or US-style strip clubs. Expect a stage in the middle with seating all around, and 5-10 girls just dancing or standing around on stage in various states of undress. No lap dances, but girls will sit with you for the price of a lady drink. In a beer bar, there are no stages and the girls wear \"street clothes\".\\n If this sounds like a thinly veiled veneer for prostitution, it is. Although some point to the large number of American GIs during the Vietnam War as the point of origin of the Thai sex trade, others have claimed that current Thai attitudes towards sexuality have deeper roots in Thai history. Both go-go and beer bars are squarely aimed at the foreign tourists and it\\'s fairly safe to assume that most if not all Thais in them are on the take. That said, it\\'s perfectly OK to check out these shows without partaking, and there are more and more curious couples and even the occasional tour group attending. The main area is around Patpong in Silom, but similar bars to the ones at Patpong can be found in Sukhumvit, at Nana Entertainment Plaza (Soi 4) and Soi Cowboy (Soi 23). Soi 33 is packed with hostess bars, which are more upscale than the Soi Cowboy and Nana Plaza bars and do not feature go-go dancing. Before heading to these places, be sure to read the Stay safe section for some additional advice.\\n As go-go bars close around 01:00, there are so-called after-hour clubs that stay open till the sun comes up. They are not hard to find—just hop in a taxi. Taxi drivers are eager to drive you there, as they get a hefty commission from club owners to bring you to them. You might even get the ride for free. These clubs generally feel grim and edgy, and there are so-called \"freelancers\" among the girls (prostitutes). Some well-known after-hour clubs include Bossy Club in Pratunam, Spicy Club near Siam Square and the always famous Thermae on Sukhumvit between sois 15 and 17 in the basement underneath the Ruamchit short-time hotel.\\n Thais are generally accepting of homosexuality and Bangkok has a very active gay nightlife scene, concentrated in Silom\\'s Soi 2, Soi 4 and a short strip of gay go-go bars known as Soi Twilight (off Surawong Road). Gay strip bars all have free entry, but charge an extra 150 baht or so for drinks. The most popular gay drinking bars are The Balcony and Telephone Pub at Silom Soi 4, which are busy until 23:00. For the disco crowd, DJ Station and its late-night neighbour G.O.D. Club (Silom Soi 2) are packed every night beginning around 23:00. Between 17:00-22:00 over 200 men from around the world cruise, swim, dine, and party at the nearby Babylon, considered by many to be the best gay sauna in the world. Babylon also has budget and luxury accommodation.\\n All of these bars and clubs are aimed at gay men and the lesbian scene is much more low-key. Since the opening of full-time lesbian bars Zeta and E-Fun, a small lesbian community is starting to emerge along Royal City Avenue. Lesla (near Phahonyothin) is a lesbian bar that is open on Saturday nights only. Bring along your passport for entrance age checking (they do not allow people under 20 years old).\\n In a league of their own are Bangkok\\'s numerous transsexuals (kathoey), both pre- and post-operative, popularly known as ladyboys. A part of Thai popular culture for ages, kathoey face increasing prejudice as Thailand imports rigid Western gender concepts. Many male Westerners obsess about the risks of \"mistaking\" a ladyboy for a \"real\" woman, in the fear that being attracted to them would make of them homosexuals. Tired clichés about \"tall, large-handed, large breasted transsexuals with garish makeup\" are belied by the fact that most kathoeys strive to blend in with the general population. However, legal change of gender is not possible in Thailand, which means they find it difficult to access many \"respectable\" jobs. Some work in the famed transvestite cabarets and there are some dedicated kathoey bars as well.\\n Some Thai regulars in the gay nightlife scene skirt the fine line between partying and prostitution, and the Western visitor, being considered richer, is expected to pay any food and drink expenses and perhaps provide some \"taxi money\" in the morning. It\\'s usually wise to ask a boy you pick up in a bar or club if he is after money, as it\\'s not uncommon for them to start demanding money after sex.\\n Book online, save money\\n While most guest houses in Khao San Road do not even bother to have a website, with moderate and upper end hotels you can save a surprisingly large amount of money by booking via the web. In most cases, walk-in rates are known to be about 30% higher than online rates as administration costs are higher and front desk personnel often get paid by commission. When standing inside the hotel\\'s lobby, sometimes it can pay off to use the free Wi-Fi, get online, book for the same night and get it for less! To give an example, some mid-range hotels offer walk-in rates for 1,500 baht the night, but online rates for 1,000 baht. That\\'s five free beers on the hotel! Nevertheless, don\\'t take that as a general rule for Thailand. On some island resorts it\\'s exactly the other way round, and the walk-in rates are only half of the online promoted price, especially in offseason.\\n Bangkok has a vast range of accommodation, including some of the best hotels in the world — but also some of the worst dives. Broadly speaking, Khao San Road is backpacker city; the riverside of Silom and Thonburi is home to The Oriental and The Peninsula respectively, often ranked among the best in the world, and priced to match, Most of the city\\'s moderate and expensive hotels can be found in Siam Square, Sukhumvit and Silom, though they also have their share of budget options.\\n When choosing your digs, think of the amount of luxury you want to pay for — air-conditioning can be advised, as temperatures don\\'t drop below 20\\xa0°C (68\\xa0°F) at night. Also pay careful attention to Skytrain, metro and express boat access, as a well-placed station or pier could make your stay in Bangkok much more comfortable. In general, accommodation in Bangkok is cheap. It\\'s possible to have a decent double room with hot shower and air-conditioning for about 500 baht/night. If you want more luxury, expect to pay around 1,500 baht for a double room in the main tourist areas. Even staying at one of Bangkok\\'s top hotels only costs around 5,000 baht — the price of a standard double room in much of Europe.\\n One Bangkok hotel phenomenon is the guest fee of around 500 baht added to your bill if you bring along a newly found friend for the night. Some hotels even refuse Thai guests altogether, especially common in Khao San Road. These rules are obviously aimed at controlling local sex workers, which is why hotel security will usually hold onto your guest\\'s ID card for the duration of the visit, but some hotels will also apply it to Western visitors — or, more embarrassingly, try to apply it to your Thai partner. Look for the signs, or, if in doubt, ask the staff before check-in.\\n Given its size, Bangkok is surprisingly safe, with violent crimes like mugging and robbery unusual. One of the biggest dangers are motorbikes who ride on pavements at speed, go through red lights, undertake buses as they stop to let passengers off and generally drive far too fast especially through stationary traffic. If you are going to hire a bike, make sure you have insurance in case you are injured. You may be the world\\'s best driver but you\\'ll meet many of the world\\'s worst drivers in Thailand.\\n Bangkok does have more than its fair share of scams, and many individuals in the tourist business do not hesitate to overcharge unwary visitors. As a rule of thumb, it is wise to decline all offers made by someone who appears to be a friendly local giving a hapless tourist some local advice. Short-changing tourists is reasonably common as well, don\\'t hesitate to complain if you are not given the correct change.\\n Never get in a tuk-tuk if someone else is trying to get you into one. Most Bangkok locals do not approach foreigners without an ulterior motive.\\n What to do if you fall for the gem scam\\n As long as you\\'re still in Thailand, it\\'s not too late. Contact the Tourist Authority of Thailand, ☏ +66 2 694-1222 or the Tourist Police, ☏ 1155 immediately, file a police report, and return to the store to claim a refund — they must, by law, return 80%. If your gems have been mailed, contact the Bangkok Mail Centre, ☏ +66 2 215-0966 (-195) immediately and ask them to track your package; they\\'ll find it if you act fast, and know the name, address and date it was mailed.\\n You should always be on the look-out for scammers, especially in major tourist areas. There are dozens of scams in Bangkok, but by far the most widely practiced is the gem scam. Always beware of tuk-tuk drivers offering all-day tours for prices as low as 10 baht. You may indeed be taken on a full-day tour, but you will end up only visiting one gem and souvenir shop after another. Don\\'t buy any products offered by pushy salespeople — the \"gems\" are pretty much always worthless pieces of cut glass and the suits are of deplorable quality. The tuk-tuk driver gets a commission if you buy something — and fuel coupons even if you don\\'t. Unless the idea of travelling by tuk-tuk appeals to you, it\\'s almost always cheaper, more comfortable and less hassle to take a metered taxi.\\n Be highly skeptical when an English-speaking Thai at a popular tourist attraction approaches you out of the blue, telling that your intended destination is closed or offering discount admissions. Temples are almost always free (the main exceptions are Wat Phra Kaeo and Wat Pho) and open just about every day of the year. Anyone telling you otherwise, even if they have an official-looking identification card, is most likely out to scam you, especially if they suggest a tuk-tuk ride to some alternate sights to see until the sight re-opens. At paid admission sites, verify the operating hours at the ticket window.\\n If you entered one of these tuk-tuks, touts will often drop you off at a certain place, such as a genuine Buddhist temple. Here you will find a man that claims to be an official, and he guides you in a certain direction. There you will find another \"official\" who also claims that a certain attraction is closed. This way, a tourist hears the same statement by multiple people, and is more eager to believe that his or her intended destination indeed is closed. Never get involved with these scammers or believe any of their statements.\\n When getting a taxi, it is a good idea to hail a moving taxi from the main road, or to walk a short distance out of a major tourist area before looking for one. This is no guarantee of honesty, but greatly increases your chances of finding an honest driver, of which there are plenty in Bangkok, even if it sometimes seems that every driver is on the make. There are some taxi drivers who switch off their meters, and insist on an unreasonable price. Most of the untrustworthy drivers are the ones standing still in tourist areas. Another important rule of thumb is to insist on the meter for taxis and agree on a price in advance for tuk-tuks. If they refuse, or quote unreasonable prices, just walk out and get a different one as they\\'re rarely in short supply. The Thai phrase to ask a driver to use the meter is mee-TOE, khap if you\\'re male and mee-TOE, kha if you\\'re female.\\n Beware of tuk-tuk or taxi drivers who approach you speaking good English or with an \"I ♥ farang\" sign, especially those who mention or take you to a tailor shop (or any kind of business). They are paid by inferior tailor shops to bring tourists there to be subjected to high pressure sales techniques. If at any point your transportation brings you somewhere you didn\\'t intend or plan to go, walk away immediately, ignore any entreaties to the contrary, and find another taxi or tuk-tuk.\\n In general, never ask a taxi driver for a recommendation for something. They will likely take you to a dubious place where they get a commission. In particular, do not ask a taxi driver for a restaurant recommendation. An infamous place taxi drivers take unsuspecting tourists is Somboon D, which is a terrible seafood restaurant in a seedy area under the train tracks on Makkasan Road (☏ +66 2 6527-7667). A typical meal there costs 800 baht per person and it comes with little seafood, no service and complaints are not taken by the management.\\n Also beware of private bus companies offering direct trips from Bangkok to other cities with \"VIP\" buses. There are a lot of scams performed by these private bus companies. The so-called direct VIP trips may end up changing three or four uncomfortable minibuses to the destination, and the 10-11-hour trip may well turn into 17–18 hr. Instead, try to book public Transport Co. buses from the main bus terminals. It\\'s worth the extra shoe-leather, as there have been reports of robberies on private buses as well.\\n Bangkok is known for its go-go bars and the prostitution that comes along with it. Some aspects of prostitution are illegal (e.g. soliciting, pimping), but enforcement is rare, and brothels are common. It\\'s not illegal to pay for sex or to pay a \"barfine\" (a fee the bar collects if you want to take an employee away).\\n The age of consent in Thailand is 15, but is 18 for prostitutes. Penalties for sex with minors are harsh. All adult Thais must carry an identity card, which will state the year of their birth according to the Buddhist calendar. Many hotels retain the ID cards of prostitutes for the duration of their visit. Whilst most prostitutes are employed by bars or similar businesses, some are \"freelancers\". Petty theft and other problems, such as slipping the customer sleep drugs, are allegedly more common with these freelancers (although still relatively rare). HIV and AIDS awareness is better than it used to be, but infection statistics among entertainment industry workers remain high; freelancers are the highest risk group. Almost all sex workers insist on using condoms.\\n While walking in go-go bar areas is generally safe, you have to be cautious of touts who try to drag you into the upstairs bars with offers of ping-pong shows and 100-baht beer. The beer may well be 100 baht, but the \"show\" you\\'ll be treated to will be 1,000 baht or more. The rule of thumb is that if you cannot see inside from street level, avoid the establishment.\\n Do not get into fights with locals. Thais are peace loving people, but when a Thai fights a foreigner, it is never a fair fight. You\\'ll wind up having to fight 10-20 others who were not initially involved, or the police will be called and not do anything to assist you, especially the Metropolitan Police, as they normally have very limited English skills; always contact the Tourist Police (☏ 1155) when in trouble. Thais are also notorious for fighting with weapons (guns, knives, broken bottles, metal rods) or employing Muay Thai techniques. These are usually produced from their concealed locations, with foreigners getting seriously injured or worse. Just avoid all confrontations. If you do get involved in a situation, it is better to apologise and leave: in Thailand, discretion is definitely the better part of valour.\\n Elephants are a large part of Thailand\\'s tourist business, and the smuggling and mistreatment of elephants for tourist attractions is a widespread practice. Be aware that elephants are often separated from their mothers at a young age to be cruelly trained under captivity for the rest of their lives. It is advised to take an elephant ride only at animal friendly organisations.\\n A depressingly common sight on the congested streets of Bangkok is elephant begging. During night hours, mahouts (trainers) with lumbering elephants approach tourists to feed the creatures bananas or take a photo with them for a fee. The elephants are brought to the city to beg in this way because they are out of work and are mistreated and visibly distressed under the conditions of the city. Please avoid supporting this cruelty by rejecting the mahouts as they offer you bananas to feed the elephants. This is especially common in Silom and Sukhumvit.\\n Due to its location, lax laws, and resources, many illegal animal products come through Bangkok. Rare and endangered species are often sold at markets for pets, especially at Chatuchak, and many other animal products are sold as luxury items. Avoid buying rare pets, leather, ivory, talons, dried sea creatures (such as starfish), fur, feathers, teeth, wool, and other products since they are most likely the result of illegal poaching, and buying them contributes greatly to animal endangerment and abuse.\\n In 2008, political unrest hit the headlines, with the yellow-shirt People\\'s Alliance for Democracy (PAD) closing down both of Bangkok\\'s airports for a week. Several people were killed in the resulting political violence. After a PAD-backed prime minister was elected, the protests ceased for a while, but the situation remained unstable. In 2010, new political unrest surfaced with red-shirt protesters from the United Front for Democracy Against Dictatorship (UDD) occupying much of Sukhumvit and surrounding areas. These protests turned violent when government troops tried to take back parts of central Bangkok that had been seized by protesters. In 2011, a UDD supported government took power. Since then, protests by both the PAD and UDD have continued to occur on a sporadic basis depending on what political event has transpired. Always follow the independent press for the newest political developments and stay away from demonstrations.\\n As elsewhere in Thailand, be careful with what you eat. Outside of major tourist hotels and resorts, stay away from raw leafy vegetables, egg-based dressings like mayonnaise, unpackaged ice cream and minced meat as hot weather tends to make food go bad faster. In short, stick to boiled, baked, fried or peeled goods.\\n Tap water in Bangkok is said to be safe when it comes out the plant, but unfortunately the plumbing along the way often is not, so it\\'s wise to avoid drinking the stuff, even in hotels. Any water served to you in good restaurants will at least be boiled, but it\\'s better to order sealed bottles instead, which are available everywhere at low prices.\\n Take care with ice, which may be made with tap water of questionable potability as above. Some residents claim that ice with round holes is made by commercial ice makers who purify their water; others state that it is wise not to rely on that claim.\\n Due to the surge of mobile connectivity, Internet cafés are not common as they used to be. If you look carefully, you may find them in tourist districts such as Khao San Road for around 30-60 baht per hour.\\n Many cafés and pubs do offer free Wi-Fi to their customers, including the ubiquitous Coffee World chain in all of its branches; ask staff for the password. TrueMove offers both free and paid Wi-Fi access. If you want to get online for free, you must register first, and both session and time is limited. Their network is accessible in many malls, including Siam Square, and sometimes can be available from your room if you stay in a nearby hot-spot — just look for the \\'truewifi\\' network, you can register. Most hotels and guest houses provide free Wi-Fi.\\n There is not a lot of free Wi-Fi available in old districts like Rattanakosin or Yaowarat. Even at McDonald\\'s and Starbucks, Wi-Fi is not free or not available at all.\\n If you are staying for more than a couple of days and prefer to stay connected without being limited to hotspots, a prepaid SIM card with mobile data is a good option. Being able to use a smartphone for navigation and reviews is very useful in a city where recommendations and directions offered by locals are not always reliable. See the Telephone section for details.\\n The area code for Bangkok is 02. You only need to dial the 0 if you\\'re calling from within Thailand. Pay phones are not commonplace, as most Thais have a mobile phone. If you want to avoid high roaming costs, you can buy a local SIM card for 100 baht at Suvarnabhumi Airport or mobile phone shops throughout the city. The 100 baht is not just for the SIM card, but is immediately your first pre-paid amount. Topping it up is easy, such as at 7-Eleven convenience stores. Making international calls is also cheaper this way.\\n As of July 2014, the True booth at Suvarnabhumi Airport is offering free tourist Sim cards preloaded with 10 baht calling credit as well as 20 MB of 3G access.\\n Bangkok\\'s red post boxes are found all over the city. There are also plenty of Thailand Post offices around for sending post and packages. In tourist areas, there are post offices in the Khao San Road area (in front of Wat Bowonniwet) and at Sukhumvit Road (between Soi 4 and 6).\\n If you\\'re staying in Bangkok for a longer time, you might want to make use of poste restante, so other people can send you letters or parcels using a post office\\'s address. Post offices keep the letters for at least two months. Letters sent via poste restante must have the receiver\\'s name on it, with the family name in underlined capital letters. If you want to pick them up near Khao San Road (opposite Wat Bowonniwet), it must be addressed to Poste Restante, Banglamphubon Post Office, Bangkok, 10203, Thailand. If you want to pick up your post in the Sukhumvit area, address it to Poste Restante, Nana Post Office, Sukhumvit Road, Bangkok, 10112, Thailand.\\n Many people go to Bangkok to undergo medical treatments that are a fraction of the cost charged in their home countries. While public hospitals can be understaffed and overcrowded with long wait times, private hospitals are among the best in the world. The best-regarded, and most expensive (though still affordable by Western standards), is Bumrungrad International Hospital, which attracts about 400,000 foreign patients per year or an average of 1,000+ a day. There are also other hospitals, such as Samitivej, Bangkok Hospital and BNH Hospital also specialize in serving foreigners. Private hospitals in Thailand are accredited by the government according to international standards, and many of the doctors in Thailand hold international accreditation and relevant licences. Staff in private hospitals are generally able to speak English well, and sometimes other foreign languages as well.\\n Popular treatments, ranging from cosmetic, organ transplants and orthopedic treatments to dental and cardiac surgeries, are available much cheaper than in the West. For example, Bumrungrad Hospital charges 90,000 baht for an all-inclusive breast implant package. Bangkok is also known as a centre for sexual reassignment surgery for people wishing to change their physical sex, although this falls out of the scope of a casual trip.\\n There are many dental clinics with English-speaking dentists and staff. The largest of them is the Bangkok International Dental Center along Ratchadaphisek Road. There are also plenty of well known teeth whitening, implant and orthodontic providers like BFC Dental and Denta Joy and smile and co dental clinic and Cosdent by SLC and Care Dental Clinic\\n They will request a passport picture (facilities there, 4 pics for 100 baht) and copy of your passport (including the page where the stamp is) 4 baht per both copies. After filling the form a number will be given. If you\\'re not an early bird, the lunch break will catch you, and you will need to wait for that hour, when everybody goes to eat on the big food courts (from 13:00 to 14:00) Supermarkets available. With the number given, and 1900 baht the new stamp will be added to your passport, with extra 30 days after the days your visa finish. The building also host many other offices, like the Consumer Protection Board, Election Commission, the Office of Justice Affairs, among many others. Worth the forced visit. Services for Burmese, Cambodian and Lao citizens remain at the central old location at Soi Suan Plu.\\n If you want to get out of the city for a while, there are plenty of day trip options from Bangkok.\\n Bangkok is also an excellent hub for onward travel into other regions of Thailand.\\n If you are considering leaving Thailand there are overland routes to the following destinations:\\n \\n \\n \\n \\n \\n'"
      ]
     },
     "execution_count": 8,
     "metadata": {},
     "output_type": "execute_result"
    }
   ],
   "source": [
    "corpus[1]"
   ]
  },
  {
   "cell_type": "markdown",
   "metadata": {},
   "source": [
    "# NLP"
   ]
  },
  {
   "cell_type": "code",
   "execution_count": 9,
   "metadata": {
    "ExecuteTime": {
     "end_time": "2019-12-23T04:32:07.138102Z",
     "start_time": "2019-12-23T04:32:03.235142Z"
    }
   },
   "outputs": [],
   "source": [
    "# Gensim\n",
    "import gensim\n",
    "import gensim.corpora as corpora\n",
    "from gensim.utils import simple_preprocess\n",
    "from gensim.models import CoherenceModel, Word2Vec, Phrases\n",
    "from gensim.summarization import summarize\n",
    "from gensim.models.fasttext import FastText\n",
    "from gensim.summarization.textcleaner import clean_text_by_word, get_sentences\n",
    "from gensim.models.phrases import Phraser\n",
    "from gensim.parsing.preprocessing import STOPWORDS\n",
    "\n",
    "import spacy\n",
    "from spacy.lang.en.stop_words import STOP_WORDS\n",
    "from string import punctuation\n"
   ]
  },
  {
   "cell_type": "code",
   "execution_count": 10,
   "metadata": {
    "ExecuteTime": {
     "end_time": "2019-12-23T04:32:07.151930Z",
     "start_time": "2019-12-23T04:32:07.140841Z"
    }
   },
   "outputs": [],
   "source": [
    "def keep_only_letters_and_numbers(doc):\n",
    "    return re.sub('[^A-Za-z0-9]+', ' ', str(doc)).strip()"
   ]
  },
  {
   "cell_type": "code",
   "execution_count": 11,
   "metadata": {
    "ExecuteTime": {
     "end_time": "2019-12-23T04:32:07.173713Z",
     "start_time": "2019-12-23T04:32:07.156279Z"
    }
   },
   "outputs": [],
   "source": [
    "# lower, tokenize, ignoring tokens that are too short or too long, remove accent marks\n",
    "def process_doc(doc):\n",
    "    return simple_preprocess(str(doc), deacc=True, min_len=2, max_len=15)"
   ]
  },
  {
   "cell_type": "code",
   "execution_count": 12,
   "metadata": {
    "ExecuteTime": {
     "end_time": "2019-12-23T04:32:07.188219Z",
     "start_time": "2019-12-23T04:32:07.180141Z"
    }
   },
   "outputs": [],
   "source": [
    "def lemmatize(doc):\n",
    "    lem = []\n",
    "    for token in doc:\n",
    "        lem.append(token.lemma_ if token.lemma_ != '-PRON-' else token.lower_)\n",
    "    return ' '.join(lem)"
   ]
  },
  {
   "cell_type": "code",
   "execution_count": 13,
   "metadata": {
    "ExecuteTime": {
     "end_time": "2019-12-23T04:32:08.104474Z",
     "start_time": "2019-12-23T04:32:08.097817Z"
    }
   },
   "outputs": [],
   "source": [
    "def remove_all_stopwords(doc, stopwords):\n",
    "    tokens = [token for token in doc if token not in stopwords]\n",
    "    \n",
    "    # remove empty list tokens\n",
    "    cleaned_tokens = [x for x in tokens if x != []]\n",
    "    return cleaned_tokens"
   ]
  },
  {
   "cell_type": "markdown",
   "metadata": {},
   "source": [
    "## Pipeline"
   ]
  },
  {
   "cell_type": "code",
   "execution_count": 17,
   "metadata": {
    "ExecuteTime": {
     "end_time": "2019-12-23T04:33:50.812968Z",
     "start_time": "2019-12-23T04:33:34.836517Z"
    }
   },
   "outputs": [
    {
     "data": {
      "text/plain": [
       "['tagger', 'parser', 'ner', 'lemmatize']"
      ]
     },
     "execution_count": 17,
     "metadata": {},
     "output_type": "execute_result"
    }
   ],
   "source": [
    "nlp = spacy.load('en_core_web_lg')\n",
    "\n",
    "nlp.add_pipe(lemmatize, name='lemmatize')\n",
    "\n",
    "nlp.pipe_names"
   ]
  },
  {
   "cell_type": "code",
   "execution_count": 18,
   "metadata": {
    "ExecuteTime": {
     "end_time": "2019-12-23T04:33:50.836098Z",
     "start_time": "2019-12-23T04:33:50.814740Z"
    }
   },
   "outputs": [],
   "source": [
    "stopwords = pd.read_csv('news_stopwords_1k.csv')\n",
    "\n",
    "# gensim, spacy, github stopwords\n",
    "all_stopwords = list(set(list(STOP_WORDS) + list(STOPWORDS) + list(stopwords)))"
   ]
  },
  {
   "cell_type": "code",
   "execution_count": 19,
   "metadata": {
    "ExecuteTime": {
     "end_time": "2019-12-23T04:33:50.859780Z",
     "start_time": "2019-12-23T04:33:50.838764Z"
    }
   },
   "outputs": [],
   "source": [
    "# add the names of the cities and countries to the stopwords list\n",
    "# we dont want named entities affecting the recommendations too much\n",
    "for place in list(city_info_final['city_and_country']):\n",
    "    all_stopwords.extend(place.split())"
   ]
  },
  {
   "cell_type": "code",
   "execution_count": 21,
   "metadata": {
    "ExecuteTime": {
     "end_time": "2019-12-23T04:34:44.384660Z",
     "start_time": "2019-12-23T04:34:44.379949Z"
    }
   },
   "outputs": [],
   "source": [
    "# process each doc\n",
    "tokenized_corpus = []\n",
    "for doc in tqdm(corpus):\n",
    "    tokenized_doc = []\n",
    "    tokenized_doc.append(\n",
    "            remove_all_stopwords(\n",
    "                nlp.pipe(\n",
    "                    process_doc(\n",
    "                        keep_only_letters_and_numbers(doc))), all_stopwords))\n",
    "    tokenized_corpus.append(tokenized_doc)"
   ]
  },
  {
   "cell_type": "code",
   "execution_count": 38,
   "metadata": {
    "ExecuteTime": {
     "end_time": "2019-12-23T04:21:11.249970Z",
     "start_time": "2019-12-23T04:21:11.240976Z"
    }
   },
   "outputs": [],
   "source": [
    "# get rid of unnecessary triple list\n",
    "tokenized_corpus_final = []\n",
    "for i in range(len(tokenized_corpus)):\n",
    "    tokenized_corpus_final.append(tokenized_corpus[i][0])"
   ]
  },
  {
   "cell_type": "code",
   "execution_count": null,
   "metadata": {},
   "outputs": [],
   "source": [
    "# save the final dataframe\n",
    "with open(f'tokenized_corpus_final2.pkl', 'wb') as picklefile:\n",
    "    pickle.dump(tokenized_corpus_final, picklefile)"
   ]
  }
 ],
 "metadata": {
  "kernelspec": {
   "display_name": "Python 3",
   "language": "python",
   "name": "python3"
  },
  "language_info": {
   "codemirror_mode": {
    "name": "ipython",
    "version": 3
   },
   "file_extension": ".py",
   "mimetype": "text/x-python",
   "name": "python",
   "nbconvert_exporter": "python",
   "pygments_lexer": "ipython3",
   "version": "3.7.5"
  },
  "toc": {
   "base_numbering": 1,
   "nav_menu": {},
   "number_sections": true,
   "sideBar": true,
   "skip_h1_title": false,
   "title_cell": "Table of Contents",
   "title_sidebar": "Contents",
   "toc_cell": false,
   "toc_position": {},
   "toc_section_display": true,
   "toc_window_display": true
  }
 },
 "nbformat": 4,
 "nbformat_minor": 2
}
